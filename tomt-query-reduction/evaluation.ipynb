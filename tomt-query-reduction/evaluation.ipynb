{
 "cells": [
  {
   "cell_type": "code",
   "execution_count": 34,
   "id": "7b9bb3bd-f5ff-40d7-b0bf-1db51e809e42",
   "metadata": {},
   "outputs": [
    {
     "name": "stdout",
     "output_type": "stream",
     "text": [
      "Requirement already satisfied: ir-measures in /opt/conda/lib/python3.10/site-packages (0.3.3)\n",
      "Requirement already satisfied: pytrec-eval-terrier>=0.5.5 in /opt/conda/lib/python3.10/site-packages (from ir-measures) (0.5.6)\n",
      "Requirement already satisfied: cwl-eval>=1.0.10 in /opt/conda/lib/python3.10/site-packages (from ir-measures) (1.0.12)\n",
      "Requirement already satisfied: numpy in /opt/conda/lib/python3.10/site-packages (from cwl-eval>=1.0.10->ir-measures) (1.23.5)\n"
     ]
    }
   ],
   "source": [
    "! pip install ir-measures\n"
   ]
  },
  {
   "cell_type": "code",
   "execution_count": 1,
   "id": "a5d4917e-2d0c-4723-9efe-66cbd05a9cfe",
   "metadata": {},
   "outputs": [],
   "source": [
    "import ir_measures\n",
    "from ir_measures import *\n",
    "\n",
    "#run = ir_measures.read_trec_run('path/to/run')\n",
    "#ir_measures.calc_aggregate([nDCG@10, P@5, P(rel=2)@5, Judged@10], qrels, run)"
   ]
  },
  {
   "cell_type": "code",
   "execution_count": 19,
   "id": "cbded558-e8f2-49d2-888c-2983c63852d1",
   "metadata": {},
   "outputs": [],
   "source": [
    "runs = {\n",
    "    'BM25': 'test.run',\n",
    "    'webis-bm25r-1': 'deepct-query-reduction/webis-bm25r-1/tot-test/run.txt',\n",
    "    'webis-fus-01': './fusion-mono-t5/to-fuse/webis-fus-01/tot-test/run.txt',\n",
    "    'webis-t5-01': './fusion-mono-t5/webis-t5-01/tot-test/run.txt',\n",
    "    'webis-t5-f': './fusion-mono-t5/webis-t5-f/tot-test/run.txt',\n",
    "    'webis-t53b-01': './fusion-mono-t5/webis-t53b-01/tot-test/run.txt',\n",
    "    'GPT4': 'gpt4-test.run',\n",
    "    'SBERT': 'distilbert-test.run',\n",
    "}\n",
    "\n",
    "def effectiveness(run):\n",
    "    qrels = ir_measures.read_trec_qrels('test-qrels.txt')\n",
    "    return ir_measures.calc_aggregate([Success@1000, MRR], qrels, ir_measures.read_trec_run(runs[run]))"
   ]
  },
  {
   "cell_type": "code",
   "execution_count": 12,
   "id": "7cb85664-f7ec-4a14-89d2-bc64a34d8cb8",
   "metadata": {},
   "outputs": [
    {
     "data": {
      "text/plain": [
       "{RR: 0.0836884937363316, Success@1000: 0.44666666666666666}"
      ]
     },
     "execution_count": 12,
     "metadata": {},
     "output_type": "execute_result"
    }
   ],
   "source": [
    "effectiveness('BM25')"
   ]
  },
  {
   "cell_type": "code",
   "execution_count": 13,
   "id": "36681aa8-5526-4198-a2c4-05e5e6770278",
   "metadata": {},
   "outputs": [
    {
     "data": {
      "text/plain": [
       "{RR: 0.10286219670929359, Success@1000: 0.52}"
      ]
     },
     "execution_count": 13,
     "metadata": {},
     "output_type": "execute_result"
    }
   ],
   "source": [
    "effectiveness('webis-bm25r-1')"
   ]
  },
  {
   "cell_type": "code",
   "execution_count": 14,
   "id": "1d6bc56a-c09e-4bdf-a8dc-662e24b7a651",
   "metadata": {},
   "outputs": [
    {
     "data": {
      "text/plain": [
       "{RR: 0.13182222674004151, Success@1000: 0.6266666666666667}"
      ]
     },
     "execution_count": 14,
     "metadata": {},
     "output_type": "execute_result"
    }
   ],
   "source": [
    "effectiveness('webis-fus-01')"
   ]
  },
  {
   "cell_type": "code",
   "execution_count": 15,
   "id": "059017f2-569f-4673-b6b8-e7f5db5bf63d",
   "metadata": {},
   "outputs": [
    {
     "data": {
      "text/plain": [
       "{RR: 0.12544877759228656, Success@1000: 0.6266666666666667}"
      ]
     },
     "execution_count": 15,
     "metadata": {},
     "output_type": "execute_result"
    }
   ],
   "source": [
    "effectiveness('webis-t5-01')"
   ]
  },
  {
   "cell_type": "code",
   "execution_count": 16,
   "id": "d069bcbb-1abe-425e-acb7-9bf306f2615d",
   "metadata": {},
   "outputs": [
    {
     "data": {
      "text/plain": [
       "{RR: 0.16977541146040526, Success@1000: 0.6266666666666667}"
      ]
     },
     "execution_count": 16,
     "metadata": {},
     "output_type": "execute_result"
    }
   ],
   "source": [
    "effectiveness('webis-t5-f')"
   ]
  },
  {
   "cell_type": "code",
   "execution_count": 17,
   "id": "b005f295-c682-42a9-b3c7-fcc355979359",
   "metadata": {},
   "outputs": [
    {
     "data": {
      "text/plain": [
       "{RR: 0.2171054558847215, Success@1000: 0.6266666666666667}"
      ]
     },
     "execution_count": 17,
     "metadata": {},
     "output_type": "execute_result"
    }
   ],
   "source": [
    "effectiveness('webis-t53b-01')"
   ]
  },
  {
   "cell_type": "code",
   "execution_count": 20,
   "id": "f6e5f216-37dc-4f00-a683-50d967e41c33",
   "metadata": {},
   "outputs": [
    {
     "data": {
      "text/plain": [
       "{RR: 0.23139702962442896, Success@1000: 0.37333333333333335}"
      ]
     },
     "execution_count": 20,
     "metadata": {},
     "output_type": "execute_result"
    }
   ],
   "source": [
    "effectiveness('GPT4')"
   ]
  },
  {
   "cell_type": "code",
   "execution_count": 21,
   "id": "f34b9140-152d-41b1-9047-f801920ea758",
   "metadata": {},
   "outputs": [
    {
     "data": {
      "text/plain": [
       "{RR: 0.06832512537808717, Success@1000: 0.5466666666666666}"
      ]
     },
     "execution_count": 21,
     "metadata": {},
     "output_type": "execute_result"
    }
   ],
   "source": [
    "effectiveness('SBERT')"
   ]
  }
 ],
 "metadata": {
  "kernelspec": {
   "display_name": "Python 3 (ipykernel)",
   "language": "python",
   "name": "python3"
  },
  "language_info": {
   "codemirror_mode": {
    "name": "ipython",
    "version": 3
   },
   "file_extension": ".py",
   "mimetype": "text/x-python",
   "name": "python",
   "nbconvert_exporter": "python",
   "pygments_lexer": "ipython3",
   "version": "3.10.6"
  }
 },
 "nbformat": 4,
 "nbformat_minor": 5
}

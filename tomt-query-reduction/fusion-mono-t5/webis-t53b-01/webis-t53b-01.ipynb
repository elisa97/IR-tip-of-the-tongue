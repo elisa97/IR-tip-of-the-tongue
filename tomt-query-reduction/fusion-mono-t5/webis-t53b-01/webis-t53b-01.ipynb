{
 "cells": [
  {
   "cell_type": "code",
   "execution_count": 1,
   "metadata": {},
   "outputs": [
    {
     "name": "stdout",
     "output_type": "stream",
     "text": [
      "Start PyTerrier with version=5.7, helper_version=0.0.7, no_download=True\n"
     ]
    },
    {
     "name": "stderr",
     "output_type": "stream",
     "text": [
      "PyTerrier 0.9.2 has loaded Terrier 5.7 (built by craigm on 2022-11-10 18:30) and terrier-helper 0.0.7\n",
      "\n",
      "No etc/terrier.properties, using terrier.default.properties for bootstrap configuration.\n"
     ]
    }
   ],
   "source": [
    "from tira.third_party_integrations import ensure_pyterrier_is_loaded, persist_and_normalize_run\n",
    "ensure_pyterrier_is_loaded()\n",
    "\n",
    "import pyterrier as pt\n",
    "import pandas as pd"
   ]
  },
  {
   "cell_type": "code",
   "execution_count": 4,
   "metadata": {},
   "outputs": [],
   "source": [
    "prompt = '1'\n",
    "\n",
    "for d in ['tot-test']:\n",
    "    queries = pt.io.read_topics(f'../../{d}/queries.xml', 'trecxml')\n",
    "    run = pd.read_json(f'../{d}-rerank-{prompt}-with-scores-t5-3b-in-progress.jsonl', lines=True, dtype={'qid': str, 'docno': str})\n",
    "    run['qid'] = run['qid'].apply(lambda i: str(i).split('_')[0])\n",
    "    run = pt.Transformer.from_df(run)\n",
    "    run = run(queries)\n",
    "    !mkdir -p {d}\n",
    "    \n",
    "    persist_and_normalize_run(run, 'webis-t53b-01', f'{d}/run.txt')"
   ]
  }
 ],
 "metadata": {
  "kernelspec": {
   "display_name": "base",
   "language": "python",
   "name": "python3"
  },
  "language_info": {
   "codemirror_mode": {
    "name": "ipython",
    "version": 3
   },
   "file_extension": ".py",
   "mimetype": "text/x-python",
   "name": "python",
   "nbconvert_exporter": "python",
   "pygments_lexer": "ipython3",
   "version": "3.7.13"
  },
  "orig_nbformat": 4
 },
 "nbformat": 4,
 "nbformat_minor": 2
}

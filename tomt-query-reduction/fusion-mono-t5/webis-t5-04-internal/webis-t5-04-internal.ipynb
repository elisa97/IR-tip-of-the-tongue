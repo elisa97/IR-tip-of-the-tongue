{
 "cells": [
  {
   "cell_type": "code",
   "execution_count": 1,
   "metadata": {},
   "outputs": [
    {
     "name": "stdout",
     "output_type": "stream",
     "text": [
      "Start PyTerrier with version=5.7, helper_version=0.0.7, no_download=True\n"
     ]
    },
    {
     "name": "stderr",
     "output_type": "stream",
     "text": [
      "PyTerrier 0.9.2 has loaded Terrier 5.7 (built by craigm on 2022-11-10 18:30) and terrier-helper 0.0.7\n",
      "\n",
      "No etc/terrier.properties, using terrier.default.properties for bootstrap configuration.\n"
     ]
    }
   ],
   "source": [
    "from tira.third_party_integrations import ensure_pyterrier_is_loaded, persist_and_normalize_run\n",
    "ensure_pyterrier_is_loaded()\n",
    "\n",
    "import pyterrier as pt\n",
    "import pandas as pd"
   ]
  },
  {
   "cell_type": "code",
   "execution_count": 2,
   "metadata": {},
   "outputs": [],
   "source": [
    "prompt = '4'\n",
    "\n",
    "for d in ['tot-test', 'tot-train', 'tot-dev']:\n",
    "    queries = pt.io.read_topics(f'../../{d}/queries.xml', 'trecxml')\n",
    "    run = pd.read_json(f'../{d}-rerank-{prompt}-with-scores.jsonl.gz', lines=True, dtype={'qid': str, 'docno': str})\n",
    "    run['qid'] = run['qid'].apply(lambda i: str(i).split('_')[0])\n",
    "    run = pt.Transformer.from_df(run)\n",
    "    run = run(queries)\n",
    "    !mkdir -p {d}\n",
    "    \n",
    "    persist_and_normalize_run(run, 'webis-t5-01', f'{d}/run.txt')"
   ]
  },
  {
   "cell_type": "markdown",
   "metadata": {},
   "source": [
    "### Final test to verify that the scores are identical to the hyperparameter tuning."
   ]
  },
  {
   "cell_type": "code",
   "execution_count": 3,
   "metadata": {},
   "outputs": [
    {
     "data": {
      "text/html": [
       "<div>\n",
       "<style scoped>\n",
       "    .dataframe tbody tr th:only-of-type {\n",
       "        vertical-align: middle;\n",
       "    }\n",
       "\n",
       "    .dataframe tbody tr th {\n",
       "        vertical-align: top;\n",
       "    }\n",
       "\n",
       "    .dataframe thead th {\n",
       "        text-align: right;\n",
       "    }\n",
       "</style>\n",
       "<table border=\"1\" class=\"dataframe\">\n",
       "  <thead>\n",
       "    <tr style=\"text-align: right;\">\n",
       "      <th></th>\n",
       "      <th>train_ndcg_cut_10</th>\n",
       "      <th>train_recip_rank</th>\n",
       "      <th>train_P_10</th>\n",
       "      <th>train_recall_100</th>\n",
       "      <th>train_recall_1000</th>\n",
       "      <th>train_recall_5000</th>\n",
       "      <th>dev_ndcg_cut_10</th>\n",
       "      <th>dev_recip_rank</th>\n",
       "      <th>dev_P_10</th>\n",
       "      <th>dev_recall_100</th>\n",
       "      <th>dev_recall_1000</th>\n",
       "      <th>dev_recall_5000</th>\n",
       "    </tr>\n",
       "  </thead>\n",
       "  <tbody>\n",
       "    <tr>\n",
       "      <th>0</th>\n",
       "      <td>0.106904</td>\n",
       "      <td>0.09833</td>\n",
       "      <td>0.016667</td>\n",
       "      <td>0.426667</td>\n",
       "      <td>0.626667</td>\n",
       "      <td>0.626667</td>\n",
       "      <td>0.112698</td>\n",
       "      <td>0.102139</td>\n",
       "      <td>0.017333</td>\n",
       "      <td>0.373333</td>\n",
       "      <td>0.566667</td>\n",
       "      <td>0.566667</td>\n",
       "    </tr>\n",
       "  </tbody>\n",
       "</table>\n",
       "</div>"
      ],
      "text/plain": [
       "   train_ndcg_cut_10  train_recip_rank  train_P_10  train_recall_100  \\\n",
       "0           0.106904           0.09833    0.016667          0.426667   \n",
       "\n",
       "   train_recall_1000  train_recall_5000  dev_ndcg_cut_10  dev_recip_rank  \\\n",
       "0           0.626667           0.626667         0.112698        0.102139   \n",
       "\n",
       "   dev_P_10  dev_recall_100  dev_recall_1000  dev_recall_5000  \n",
       "0  0.017333        0.373333         0.566667         0.566667  "
      ]
     },
     "execution_count": 3,
     "metadata": {},
     "output_type": "execute_result"
    }
   ],
   "source": [
    "def report_effectiveness(dataset):\n",
    "    queries = pt.io.read_topics(f'../../{dataset}/queries.xml', 'trecxml')\n",
    "    run = pt.Transformer.from_df(pt.io.read_results(f'{dataset}/run.txt'))\n",
    "\n",
    "    ret = pt.Experiment([run], queries, pt.io.read_qrels(f'../../{dataset}/qrels.txt'), eval_metrics=[\"ndcg_cut_10\", 'recip_rank', 'P_10', 'recall_100', 'recall_1000', 'recall_5000'])\n",
    "    \n",
    "    return {i: ret.iloc[0][i] for i in ['ndcg_cut_10', 'recip_rank', 'P_10', 'recall_100', 'recall_1000', 'recall_5000']}\n",
    "\n",
    "def report_pipeline():\n",
    "    ret = {}\n",
    "    for dataset in ['tot-train', 'tot-dev']:\n",
    "        for k,v in report_effectiveness(dataset).items():\n",
    "            ret[dataset.split('-')[1] + '_' + k] = v\n",
    "    return pd.DataFrame([ret])\n",
    "\n",
    "report_pipeline()"
   ]
  }
 ],
 "metadata": {
  "kernelspec": {
   "display_name": "base",
   "language": "python",
   "name": "python3"
  },
  "language_info": {
   "codemirror_mode": {
    "name": "ipython",
    "version": 3
   },
   "file_extension": ".py",
   "mimetype": "text/x-python",
   "name": "python",
   "nbconvert_exporter": "python",
   "pygments_lexer": "ipython3",
   "version": "3.7.13"
  },
  "orig_nbformat": 4
 },
 "nbformat": 4,
 "nbformat_minor": 2
}

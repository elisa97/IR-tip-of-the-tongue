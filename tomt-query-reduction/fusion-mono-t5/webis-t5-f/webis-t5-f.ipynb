{
 "cells": [
  {
   "cell_type": "code",
   "execution_count": null,
   "metadata": {},
   "outputs": [],
   "source": [
    "!pip3 install ranx\n"
   ]
  },
  {
   "cell_type": "code",
   "execution_count": 2,
   "metadata": {},
   "outputs": [
    {
     "name": "stdout",
     "output_type": "stream",
     "text": [
      "Start PyTerrier with version=5.7, helper_version=0.0.7, no_download=True\n"
     ]
    },
    {
     "name": "stderr",
     "output_type": "stream",
     "text": [
      "PyTerrier 0.9.2 has loaded Terrier 5.7 (built by craigm on 2022-11-10 18:30) and terrier-helper 0.0.7\n",
      "\n",
      "No etc/terrier.properties, using terrier.default.properties for bootstrap configuration.\n"
     ]
    }
   ],
   "source": [
    "from tira.third_party_integrations import ensure_pyterrier_is_loaded, persist_and_normalize_run\n",
    "ensure_pyterrier_is_loaded()\n",
    "\n",
    "import pyterrier as pt\n",
    "from ranx import Run, fuse\n",
    "import pandas as pd"
   ]
  },
  {
   "cell_type": "code",
   "execution_count": 3,
   "metadata": {},
   "outputs": [],
   "source": [
    "for d in ['tot-test', 'tot-train', 'tot-dev']:\n",
    "    runs = [Run.from_file(f'../webis-t5-0{i}/{d}/run.txt') for i in ['1', '2-internal', '4-internal']]\n",
    "    combined_run = fuse(\n",
    "        runs=runs,            # A list of Run instances to fuse\n",
    "        norm=\"min-max\",       # The normalization strategy to apply before fusion\n",
    "        method=\"rrf\",         # The fusion algorithm to use \n",
    "    )\n",
    "    !mkdir -p {d}\n",
    "    combined_run.save(f'{d}/run.txt')\n",
    "    run = pt.io.read_results(f'{d}/run.txt', format='trec')\n",
    "    persist_and_normalize_run(run, 'webis-t5-f', f'{d}/run.txt')"
   ]
  },
  {
   "cell_type": "markdown",
   "metadata": {},
   "source": [
    "### Final test to verify that the scores are identical to the hyperparameter tuning."
   ]
  },
  {
   "cell_type": "code",
   "execution_count": 4,
   "metadata": {},
   "outputs": [
    {
     "data": {
      "text/html": [
       "<div>\n",
       "<style scoped>\n",
       "    .dataframe tbody tr th:only-of-type {\n",
       "        vertical-align: middle;\n",
       "    }\n",
       "\n",
       "    .dataframe tbody tr th {\n",
       "        vertical-align: top;\n",
       "    }\n",
       "\n",
       "    .dataframe thead th {\n",
       "        text-align: right;\n",
       "    }\n",
       "</style>\n",
       "<table border=\"1\" class=\"dataframe\">\n",
       "  <thead>\n",
       "    <tr style=\"text-align: right;\">\n",
       "      <th></th>\n",
       "      <th>train_ndcg_cut_10</th>\n",
       "      <th>train_recip_rank</th>\n",
       "      <th>train_P_10</th>\n",
       "      <th>train_recall_100</th>\n",
       "      <th>train_recall_1000</th>\n",
       "      <th>train_recall_5000</th>\n",
       "      <th>dev_ndcg_cut_10</th>\n",
       "      <th>dev_recip_rank</th>\n",
       "      <th>dev_P_10</th>\n",
       "      <th>dev_recall_100</th>\n",
       "      <th>dev_recall_1000</th>\n",
       "      <th>dev_recall_5000</th>\n",
       "    </tr>\n",
       "  </thead>\n",
       "  <tbody>\n",
       "    <tr>\n",
       "      <th>0</th>\n",
       "      <td>0.139182</td>\n",
       "      <td>0.118345</td>\n",
       "      <td>0.023333</td>\n",
       "      <td>0.46</td>\n",
       "      <td>0.626667</td>\n",
       "      <td>0.626667</td>\n",
       "      <td>0.144511</td>\n",
       "      <td>0.131074</td>\n",
       "      <td>0.021333</td>\n",
       "      <td>0.4</td>\n",
       "      <td>0.566667</td>\n",
       "      <td>0.566667</td>\n",
       "    </tr>\n",
       "  </tbody>\n",
       "</table>\n",
       "</div>"
      ],
      "text/plain": [
       "   train_ndcg_cut_10  train_recip_rank  train_P_10  train_recall_100  \\\n",
       "0           0.139182          0.118345    0.023333              0.46   \n",
       "\n",
       "   train_recall_1000  train_recall_5000  dev_ndcg_cut_10  dev_recip_rank  \\\n",
       "0           0.626667           0.626667         0.144511        0.131074   \n",
       "\n",
       "   dev_P_10  dev_recall_100  dev_recall_1000  dev_recall_5000  \n",
       "0  0.021333             0.4         0.566667         0.566667  "
      ]
     },
     "execution_count": 4,
     "metadata": {},
     "output_type": "execute_result"
    }
   ],
   "source": [
    "def report_effectiveness(dataset):\n",
    "    queries = pt.io.read_topics(f'../../{dataset}/queries.xml', 'trecxml')\n",
    "    run = pt.Transformer.from_df(pt.io.read_results(f'{dataset}/run.txt'))\n",
    "\n",
    "    ret = pt.Experiment([run], queries, pt.io.read_qrels(f'../../{dataset}/qrels.txt'), eval_metrics=[\"ndcg_cut_10\", 'recip_rank', 'P_10', 'recall_100', 'recall_1000', 'recall_5000'])\n",
    "    \n",
    "    return {i: ret.iloc[0][i] for i in ['ndcg_cut_10', 'recip_rank', 'P_10', 'recall_100', 'recall_1000', 'recall_5000']}\n",
    "\n",
    "def report_pipeline():\n",
    "    ret = {}\n",
    "    for dataset in ['tot-train', 'tot-dev']:\n",
    "        for k,v in report_effectiveness(dataset).items():\n",
    "            ret[dataset.split('-')[1] + '_' + k] = v\n",
    "    return pd.DataFrame([ret])\n",
    "\n",
    "report_pipeline()"
   ]
  }
 ],
 "metadata": {
  "kernelspec": {
   "display_name": "base",
   "language": "python",
   "name": "python3"
  },
  "language_info": {
   "codemirror_mode": {
    "name": "ipython",
    "version": 3
   },
   "file_extension": ".py",
   "mimetype": "text/x-python",
   "name": "python",
   "nbconvert_exporter": "python",
   "pygments_lexer": "ipython3",
   "version": "3.7.13"
  },
  "orig_nbformat": 4
 },
 "nbformat": 4,
 "nbformat_minor": 2
}

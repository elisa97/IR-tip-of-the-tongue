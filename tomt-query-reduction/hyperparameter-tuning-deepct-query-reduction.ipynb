{
 "cells": [
  {
   "cell_type": "markdown",
   "metadata": {},
   "source": [
    "### Hyperparameter Tuning for DeepCT-Query Reduction"
   ]
  },
  {
   "cell_type": "code",
   "execution_count": 2,
   "metadata": {},
   "outputs": [],
   "source": [
    "from tira.third_party_integrations import ensure_pyterrier_is_loaded\n",
    "ensure_pyterrier_is_loaded()\n",
    "\n",
    "import pyterrier as pt\n",
    "import os\n",
    "import sys\n",
    "import pandas as pd\n",
    "from tqdm import tqdm\n",
    "sys.path.append('deepct-query-reduction')\n",
    "from deepct_query_reduction import DeepCTQueryReduction\n",
    "\n",
    "\n",
    "index = pt.IndexRef.of(os.path.abspath('pyterrier-index/index/data.properties'))"
   ]
  },
  {
   "cell_type": "code",
   "execution_count": 3,
   "metadata": {},
   "outputs": [
    {
     "name": "stdout",
     "output_type": "stream",
     "text": [
      "40 Pipelines\n"
     ]
    }
   ],
   "source": [
    "MODELS = [ \"/deepct-models/deepct-main-01/output/model.ckpt-20000\",\n",
    "          #\"/deepct-models/deepct-main-01/output/model.ckpt-22503\", \n",
    "          #\"/deepct-models/deepct-title-01/output/model.ckpt-20000\",\n",
    "          #\"/deepct-models/deepct-title-01/output/model.ckpt-21166\", \"/deepct-models/deepct-main-01/output/model.ckpt-0\",\n",
    "          #\"/deepct-models/deepct-main-02/output/model.ckpt-0\", \"/deepct-models/deepct-title-01/output/model.ckpt-0\",\n",
    "]\n",
    "OMIT_DUPLICATES = ['True', 'False']\n",
    "PROPORTIONS = ['0.05', '0.10', '0.15', '0.20', '0.25', '0.30', '0.35', '0.40', '0.45', '0.50', '0.55', '0.60', '0.65', '0.70', '0.75', '0.80', '0.85', '0.90', '0.95', '1.00']\n",
    "pipelines = []\n",
    "\n",
    "for model in MODELS:\n",
    "    for omit in OMIT_DUPLICATES:\n",
    "        for proportion in PROPORTIONS:\n",
    "            pipelines += [model + ';' + proportion + ';' + omit]\n",
    "\n",
    "print(len(pipelines), 'Pipelines')"
   ]
  },
  {
   "cell_type": "code",
   "execution_count": 4,
   "metadata": {},
   "outputs": [
    {
     "name": "stderr",
     "output_type": "stream",
     "text": [
      "  0%|          | 0/40 [00:00<?, ?it/s]"
     ]
    }
   ],
   "source": [
    "def report_effectiveness(pipeline, dataset):\n",
    "    queries = pt.io.read_topics(f'tot-{dataset}/queries.xml', 'trecxml')\n",
    "    deep_ct_query_reduction = DeepCTQueryReduction(f'deepct-query-reduction/tot-{dataset}-deepct-predictions/predictions.json', pipeline).as_transformer()\n",
    "\n",
    "    bm25 = pt.BatchRetrieve(index, wmodel=\"BM25\")\n",
    "\n",
    "    retrieval_pipeline = deep_ct_query_reduction >> bm25\n",
    "\n",
    "    ret = pt.Experiment([retrieval_pipeline], queries, pt.io.read_qrels(f'tot-{dataset}/qrels.txt'), eval_metrics=[\"ndcg_cut_10\", 'recip_rank', 'P_10'])\n",
    "    \n",
    "    return {i: ret.iloc[0][i] for i in ['ndcg_cut_10', 'recip_rank', 'P_10']}\n",
    "\n",
    "def report_pipeline(pipeline):\n",
    "    ret = {'Pipeline': pipeline}\n",
    "    for dataset in ['train', 'dev']:\n",
    "        for k,v in report_effectiveness(pipeline, dataset).items():\n",
    "            ret[dataset + '_' + k] = v\n",
    "    return ret\n",
    "\n",
    "df = []\n",
    "for pipeline in tqdm(pipelines):\n",
    "    df += [report_pipeline(pipeline)]\n",
    "\n",
    "df = pd.DataFrame(df)\n",
    "df.to_json('hyperparameter-tuning-deepct-results-variant-01.jsonl', lines=True, orient='records')"
   ]
  },
  {
   "cell_type": "code",
   "execution_count": 7,
   "metadata": {},
   "outputs": [
    {
     "data": {
      "text/html": [
       "<div>\n",
       "<style scoped>\n",
       "    .dataframe tbody tr th:only-of-type {\n",
       "        vertical-align: middle;\n",
       "    }\n",
       "\n",
       "    .dataframe tbody tr th {\n",
       "        vertical-align: top;\n",
       "    }\n",
       "\n",
       "    .dataframe thead th {\n",
       "        text-align: right;\n",
       "    }\n",
       "</style>\n",
       "<table border=\"1\" class=\"dataframe\">\n",
       "  <thead>\n",
       "    <tr style=\"text-align: right;\">\n",
       "      <th></th>\n",
       "      <th>Pipeline</th>\n",
       "      <th>train_ndcg_cut_10</th>\n",
       "      <th>train_recip_rank</th>\n",
       "      <th>train_P_10</th>\n",
       "      <th>dev_ndcg_cut_10</th>\n",
       "      <th>dev_recip_rank</th>\n",
       "      <th>dev_P_10</th>\n",
       "    </tr>\n",
       "  </thead>\n",
       "  <tbody>\n",
       "    <tr>\n",
       "      <th>0</th>\n",
       "      <td>/deepct-models/deepct-main-01/output/model.ckpt-22503;0.25;True</td>\n",
       "      <td>0.041535</td>\n",
       "      <td>0.038080</td>\n",
       "      <td>0.006667</td>\n",
       "      <td>0.053785</td>\n",
       "      <td>0.048123</td>\n",
       "      <td>0.008667</td>\n",
       "    </tr>\n",
       "    <tr>\n",
       "      <th>1</th>\n",
       "      <td>/deepct-models/deepct-main-01/output/model.ckpt-22503;0.50;True</td>\n",
       "      <td>0.088932</td>\n",
       "      <td>0.080261</td>\n",
       "      <td>0.013333</td>\n",
       "      <td>0.094506</td>\n",
       "      <td>0.091035</td>\n",
       "      <td>0.012667</td>\n",
       "    </tr>\n",
       "    <tr>\n",
       "      <th>2</th>\n",
       "      <td>/deepct-models/deepct-main-01/output/model.ckpt-22503;0.75;True</td>\n",
       "      <td>0.096249</td>\n",
       "      <td>0.089650</td>\n",
       "      <td>0.013333</td>\n",
       "      <td>0.095243</td>\n",
       "      <td>0.091474</td>\n",
       "      <td>0.012667</td>\n",
       "    </tr>\n",
       "    <tr>\n",
       "      <th>3</th>\n",
       "      <td>/deepct-models/deepct-main-01/output/model.ckpt-22503;1.0;True</td>\n",
       "      <td>0.095325</td>\n",
       "      <td>0.088660</td>\n",
       "      <td>0.013333</td>\n",
       "      <td>0.091371</td>\n",
       "      <td>0.088743</td>\n",
       "      <td>0.012000</td>\n",
       "    </tr>\n",
       "  </tbody>\n",
       "</table>\n",
       "</div>"
      ],
      "text/plain": [
       "                                                          Pipeline  \\\n",
       "0  /deepct-models/deepct-main-01/output/model.ckpt-22503;0.25;True   \n",
       "1  /deepct-models/deepct-main-01/output/model.ckpt-22503;0.50;True   \n",
       "2  /deepct-models/deepct-main-01/output/model.ckpt-22503;0.75;True   \n",
       "3   /deepct-models/deepct-main-01/output/model.ckpt-22503;1.0;True   \n",
       "\n",
       "   train_ndcg_cut_10  train_recip_rank  train_P_10  dev_ndcg_cut_10  \\\n",
       "0           0.041535          0.038080    0.006667         0.053785   \n",
       "1           0.088932          0.080261    0.013333         0.094506   \n",
       "2           0.096249          0.089650    0.013333         0.095243   \n",
       "3           0.095325          0.088660    0.013333         0.091371   \n",
       "\n",
       "   dev_recip_rank  dev_P_10  \n",
       "0        0.048123  0.008667  \n",
       "1        0.091035  0.012667  \n",
       "2        0.091474  0.012667  \n",
       "3        0.088743  0.012000  "
      ]
     },
     "execution_count": 7,
     "metadata": {},
     "output_type": "execute_result"
    }
   ],
   "source": [
    "pd.set_option('display.max_colwidth', None)\n",
    "df"
   ]
  }
 ],
 "metadata": {
  "kernelspec": {
   "display_name": "base",
   "language": "python",
   "name": "python3"
  },
  "language_info": {
   "codemirror_mode": {
    "name": "ipython",
    "version": 3
   },
   "file_extension": ".py",
   "mimetype": "text/x-python",
   "name": "python",
   "nbconvert_exporter": "python",
   "pygments_lexer": "ipython3",
   "version": "3.7.13"
  },
  "orig_nbformat": 4
 },
 "nbformat": 4,
 "nbformat_minor": 2
}

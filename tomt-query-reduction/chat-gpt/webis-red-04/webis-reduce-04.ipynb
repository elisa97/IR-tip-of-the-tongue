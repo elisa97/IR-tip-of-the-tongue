{
 "cells": [
  {
   "cell_type": "code",
   "execution_count": 1,
   "metadata": {},
   "outputs": [
    {
     "name": "stdout",
     "output_type": "stream",
     "text": [
      "Start PyTerrier with version=5.7, helper_version=0.0.7, no_download=True\n"
     ]
    },
    {
     "name": "stderr",
     "output_type": "stream",
     "text": [
      "PyTerrier 0.9.2 has loaded Terrier 5.7 (built by craigm on 2022-11-10 18:30) and terrier-helper 0.0.7\n",
      "\n",
      "No etc/terrier.properties, using terrier.default.properties for bootstrap configuration.\n"
     ]
    }
   ],
   "source": [
    "from tira.third_party_integrations import ensure_pyterrier_is_loaded, persist_and_normalize_run\n",
    "ensure_pyterrier_is_loaded()\n",
    "\n",
    "import pyterrier as pt\n",
    "import os\n",
    "import sys\n",
    "import pandas as pd\n",
    "sys.path.append('..')\n",
    "from chatgpt_query_reduction import ChatGPTQueryReduction\n",
    "\n",
    "\n",
    "index = pt.IndexRef.of(os.path.abspath('../../pyterrier-index/index/data.properties'))"
   ]
  },
  {
   "cell_type": "code",
   "execution_count": 2,
   "metadata": {},
   "outputs": [],
   "source": [
    "bm25 = pt.BatchRetrieve(index, wmodel=\"BM25\")\n",
    "chat_gpt_query_reduction = ChatGPTQueryReduction('../query-variants-in-progress', '4').as_transformer()\n",
    "\n",
    "pipeline = chat_gpt_query_reduction >> bm25"
   ]
  },
  {
   "cell_type": "code",
   "execution_count": 3,
   "metadata": {},
   "outputs": [],
   "source": [
    "for d in ['tot-test', 'tot-train', 'tot-dev']:\n",
    "    !mkdir -p {d}\n",
    "    queries = pt.io.read_topics(f'../../{d}/queries.xml', 'trecxml')\n",
    "    processed_queries = chat_gpt_query_reduction(queries)\n",
    "    processed_queries.to_json(f'{d}/queries.jsonl', lines=True, orient='records')\n",
    "    run = pipeline(queries)\n",
    "    persist_and_normalize_run(run, 'webis-red-04', f'{d}/run.txt')\n"
   ]
  },
  {
   "cell_type": "markdown",
   "metadata": {},
   "source": [
    "### Final test to verify that the scores are identical to the hyperparameter tuning."
   ]
  },
  {
   "cell_type": "code",
   "execution_count": 4,
   "metadata": {},
   "outputs": [
    {
     "data": {
      "text/html": [
       "<div>\n",
       "<style scoped>\n",
       "    .dataframe tbody tr th:only-of-type {\n",
       "        vertical-align: middle;\n",
       "    }\n",
       "\n",
       "    .dataframe tbody tr th {\n",
       "        vertical-align: top;\n",
       "    }\n",
       "\n",
       "    .dataframe thead th {\n",
       "        text-align: right;\n",
       "    }\n",
       "</style>\n",
       "<table border=\"1\" class=\"dataframe\">\n",
       "  <thead>\n",
       "    <tr style=\"text-align: right;\">\n",
       "      <th></th>\n",
       "      <th>train_ndcg_cut_10</th>\n",
       "      <th>train_recip_rank</th>\n",
       "      <th>train_P_10</th>\n",
       "      <th>train_recall_100</th>\n",
       "      <th>train_recall_1000</th>\n",
       "      <th>dev_ndcg_cut_10</th>\n",
       "      <th>dev_recip_rank</th>\n",
       "      <th>dev_P_10</th>\n",
       "      <th>dev_recall_100</th>\n",
       "      <th>dev_recall_1000</th>\n",
       "    </tr>\n",
       "  </thead>\n",
       "  <tbody>\n",
       "    <tr>\n",
       "      <th>0</th>\n",
       "      <td>0.095803</td>\n",
       "      <td>0.087807</td>\n",
       "      <td>0.014</td>\n",
       "      <td>0.333333</td>\n",
       "      <td>0.54</td>\n",
       "      <td>0.107782</td>\n",
       "      <td>0.104781</td>\n",
       "      <td>0.014</td>\n",
       "      <td>0.286667</td>\n",
       "      <td>0.52</td>\n",
       "    </tr>\n",
       "  </tbody>\n",
       "</table>\n",
       "</div>"
      ],
      "text/plain": [
       "   train_ndcg_cut_10  train_recip_rank  train_P_10  train_recall_100  \\\n",
       "0           0.095803          0.087807       0.014          0.333333   \n",
       "\n",
       "   train_recall_1000  dev_ndcg_cut_10  dev_recip_rank  dev_P_10  \\\n",
       "0               0.54         0.107782        0.104781     0.014   \n",
       "\n",
       "   dev_recall_100  dev_recall_1000  \n",
       "0        0.286667             0.52  "
      ]
     },
     "execution_count": 4,
     "metadata": {},
     "output_type": "execute_result"
    }
   ],
   "source": [
    "def report_effectiveness(dataset):\n",
    "    queries = pt.io.read_topics(f'../../{dataset}/queries.xml', 'trecxml')\n",
    "    run = pt.Transformer.from_df(pt.io.read_results(f'{dataset}/run.txt'))\n",
    "\n",
    "    ret = pt.Experiment([run], queries, pt.io.read_qrels(f'../../{dataset}/qrels.txt'), eval_metrics=[\"ndcg_cut_10\", 'recip_rank', 'P_10', 'recall_100', 'recall_1000'])\n",
    "    \n",
    "    return {i: ret.iloc[0][i] for i in ['ndcg_cut_10', 'recip_rank', 'P_10', 'recall_100', 'recall_1000']}\n",
    "\n",
    "def report_pipeline():\n",
    "    ret = {}\n",
    "    for dataset in ['tot-train', 'tot-dev']:\n",
    "        for k,v in report_effectiveness(dataset).items():\n",
    "            ret[dataset.split('-')[1] + '_' + k] = v\n",
    "    return pd.DataFrame([ret])\n",
    "\n",
    "report_pipeline()"
   ]
  }
 ],
 "metadata": {
  "kernelspec": {
   "display_name": "base",
   "language": "python",
   "name": "python3"
  },
  "language_info": {
   "codemirror_mode": {
    "name": "ipython",
    "version": 3
   },
   "file_extension": ".py",
   "mimetype": "text/x-python",
   "name": "python",
   "nbconvert_exporter": "python",
   "pygments_lexer": "ipython3",
   "version": "3.7.13"
  },
  "orig_nbformat": 4
 },
 "nbformat": 4,
 "nbformat_minor": 2
}

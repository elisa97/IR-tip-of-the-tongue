{
 "cells": [
  {
   "cell_type": "code",
   "execution_count": 2,
   "metadata": {},
   "outputs": [
    {
     "name": "stdout",
     "output_type": "stream",
     "text": [
      "Requirement already satisfied: ranx in /opt/conda/lib/python3.7/site-packages (0.3.4)\n",
      "Requirement already satisfied: rich in /opt/conda/lib/python3.7/site-packages (from ranx) (13.5.2)\n",
      "Requirement already satisfied: pandas in /opt/conda/lib/python3.7/site-packages (from ranx) (1.3.5)\n",
      "Requirement already satisfied: cbor2 in /opt/conda/lib/python3.7/site-packages (from ranx) (5.4.6)\n",
      "Requirement already satisfied: orjson in /opt/conda/lib/python3.7/site-packages (from ranx) (3.9.5)\n",
      "Requirement already satisfied: numba>=0.54.1 in /opt/conda/lib/python3.7/site-packages (from ranx) (0.56.4)\n",
      "Requirement already satisfied: scipy>=1.6.0 in /opt/conda/lib/python3.7/site-packages (from ranx) (1.7.3)\n",
      "Requirement already satisfied: numpy in /opt/conda/lib/python3.7/site-packages (from ranx) (1.21.5)\n",
      "Requirement already satisfied: tabulate in /opt/conda/lib/python3.7/site-packages (from ranx) (0.9.0)\n",
      "Requirement already satisfied: statsmodels in /opt/conda/lib/python3.7/site-packages (from ranx) (0.13.5)\n",
      "Requirement already satisfied: lz4 in /opt/conda/lib/python3.7/site-packages (from ranx) (4.3.2)\n",
      "Requirement already satisfied: tqdm in /opt/conda/lib/python3.7/site-packages (from ranx) (4.63.0)\n",
      "Requirement already satisfied: ir-datasets in /opt/conda/lib/python3.7/site-packages (from ranx) (0.5.4)\n",
      "Requirement already satisfied: llvmlite<0.40,>=0.39.0dev0 in /opt/conda/lib/python3.7/site-packages (from numba>=0.54.1->ranx) (0.39.1)\n",
      "Requirement already satisfied: importlib-metadata in /opt/conda/lib/python3.7/site-packages (from numba>=0.54.1->ranx) (6.0.0)\n",
      "Requirement already satisfied: setuptools in /opt/conda/lib/python3.7/site-packages (from numba>=0.54.1->ranx) (61.2.0)\n",
      "Requirement already satisfied: zipp>=0.5 in /opt/conda/lib/python3.7/site-packages (from importlib-metadata->numba>=0.54.1->ranx) (3.11.0)\n",
      "Requirement already satisfied: typing-extensions>=3.6.4 in /opt/conda/lib/python3.7/site-packages (from importlib-metadata->numba>=0.54.1->ranx) (4.1.1)\n",
      "Requirement already satisfied: pyautocorpus>=0.1.1 in /opt/conda/lib/python3.7/site-packages (from ir-datasets->ranx) (0.1.9)\n",
      "Requirement already satisfied: requests>=2.22.0 in /opt/conda/lib/python3.7/site-packages (from ir-datasets->ranx) (2.28.1)\n",
      "Requirement already satisfied: trec-car-tools>=2.5.4 in /opt/conda/lib/python3.7/site-packages (from ir-datasets->ranx) (2.6)\n",
      "Requirement already satisfied: ijson>=3.1.3 in /opt/conda/lib/python3.7/site-packages (from ir-datasets->ranx) (3.2.0.post0)\n",
      "Requirement already satisfied: beautifulsoup4>=4.4.1 in /opt/conda/lib/python3.7/site-packages (from ir-datasets->ranx) (4.11.1)\n",
      "Requirement already satisfied: pyyaml>=5.3.1 in /opt/conda/lib/python3.7/site-packages (from ir-datasets->ranx) (6.0)\n",
      "Requirement already satisfied: zlib-state>=0.1.3 in /opt/conda/lib/python3.7/site-packages (from ir-datasets->ranx) (0.1.5)\n",
      "Requirement already satisfied: warc3-wet-clueweb09>=0.2.5 in /opt/conda/lib/python3.7/site-packages (from ir-datasets->ranx) (0.2.5)\n",
      "Requirement already satisfied: unlzw3>=0.2.1 in /opt/conda/lib/python3.7/site-packages (from ir-datasets->ranx) (0.2.2)\n",
      "Requirement already satisfied: lxml>=4.5.2 in /opt/conda/lib/python3.7/site-packages (from ir-datasets->ranx) (4.9.2)\n",
      "Requirement already satisfied: warc3-wet>=0.2.3 in /opt/conda/lib/python3.7/site-packages (from ir-datasets->ranx) (0.2.3)\n",
      "Requirement already satisfied: soupsieve>1.2 in /opt/conda/lib/python3.7/site-packages (from beautifulsoup4>=4.4.1->ir-datasets->ranx) (2.3.1)\n",
      "Requirement already satisfied: charset-normalizer<3,>=2 in /opt/conda/lib/python3.7/site-packages (from requests>=2.22.0->ir-datasets->ranx) (2.0.4)\n",
      "Requirement already satisfied: idna<4,>=2.5 in /opt/conda/lib/python3.7/site-packages (from requests>=2.22.0->ir-datasets->ranx) (3.3)\n",
      "Requirement already satisfied: urllib3<1.27,>=1.21.1 in /opt/conda/lib/python3.7/site-packages (from requests>=2.22.0->ir-datasets->ranx) (1.26.8)\n",
      "Requirement already satisfied: certifi>=2017.4.17 in /opt/conda/lib/python3.7/site-packages (from requests>=2.22.0->ir-datasets->ranx) (2022.6.15)\n",
      "Requirement already satisfied: cbor>=1.0.0 in /opt/conda/lib/python3.7/site-packages (from trec-car-tools>=2.5.4->ir-datasets->ranx) (1.0.0)\n",
      "Requirement already satisfied: python-dateutil>=2.7.3 in /opt/conda/lib/python3.7/site-packages (from pandas->ranx) (2.8.2)\n",
      "Requirement already satisfied: pytz>=2017.3 in /opt/conda/lib/python3.7/site-packages (from pandas->ranx) (2022.1)\n",
      "Requirement already satisfied: six>=1.5 in /opt/conda/lib/python3.7/site-packages (from python-dateutil>=2.7.3->pandas->ranx) (1.16.0)\n",
      "Requirement already satisfied: pygments<3.0.0,>=2.13.0 in /opt/conda/lib/python3.7/site-packages (from rich->ranx) (2.16.1)\n",
      "Requirement already satisfied: markdown-it-py>=2.2.0 in /opt/conda/lib/python3.7/site-packages (from rich->ranx) (2.2.0)\n",
      "Requirement already satisfied: mdurl~=0.1 in /opt/conda/lib/python3.7/site-packages (from markdown-it-py>=2.2.0->rich->ranx) (0.1.2)\n",
      "Requirement already satisfied: packaging>=21.3 in /opt/conda/lib/python3.7/site-packages (from statsmodels->ranx) (22.0)\n",
      "Requirement already satisfied: patsy>=0.5.2 in /opt/conda/lib/python3.7/site-packages (from statsmodels->ranx) (0.5.3)\n",
      "\u001b[33mWARNING: Running pip as the 'root' user can result in broken permissions and conflicting behaviour with the system package manager. It is recommended to use a virtual environment instead: https://pip.pypa.io/warnings/venv\u001b[0m\n"
     ]
    }
   ],
   "source": [
    "!pip3 install ranx"
   ]
  },
  {
   "cell_type": "code",
   "execution_count": 6,
   "metadata": {},
   "outputs": [],
   "source": [
    "from tira.third_party_integrations import ensure_pyterrier_is_loaded, persist_and_normalize_run\n",
    "ensure_pyterrier_is_loaded()\n",
    "\n",
    "import pyterrier as pt\n",
    "from ranx import Run, fuse\n",
    "import pandas as pd"
   ]
  },
  {
   "cell_type": "code",
   "execution_count": 4,
   "metadata": {},
   "outputs": [],
   "source": [
    "for d in ['tot-test', 'tot-train', 'tot-dev']:\n",
    "    runs = [Run.from_file(f'../webis-red-0{i}/{d}/run.txt') for i in ['1', '2', '3', '4']]\n",
    "    combined_run = fuse(\n",
    "        runs=runs,            # A list of Run instances to fuse\n",
    "        norm=\"min-max\",       # The normalization strategy to apply before fusion\n",
    "        method=\"rrf\",         # The fusion algorithm to use \n",
    "    )\n",
    "    !mkdir -p {d}\n",
    "    combined_run.save(f'{d}/run.txt')\n",
    "    run = pt.io.read_results(f'{d}/run.txt', format='trec')\n",
    "    persist_and_normalize_run(run, 'webis-fus-01', f'{d}/run.txt')"
   ]
  },
  {
   "cell_type": "markdown",
   "metadata": {},
   "source": [
    "### Final test to verify that the scores are identical to the hyperparameter tuning."
   ]
  },
  {
   "cell_type": "code",
   "execution_count": 7,
   "metadata": {},
   "outputs": [
    {
     "data": {
      "text/html": [
       "<div>\n",
       "<style scoped>\n",
       "    .dataframe tbody tr th:only-of-type {\n",
       "        vertical-align: middle;\n",
       "    }\n",
       "\n",
       "    .dataframe tbody tr th {\n",
       "        vertical-align: top;\n",
       "    }\n",
       "\n",
       "    .dataframe thead th {\n",
       "        text-align: right;\n",
       "    }\n",
       "</style>\n",
       "<table border=\"1\" class=\"dataframe\">\n",
       "  <thead>\n",
       "    <tr style=\"text-align: right;\">\n",
       "      <th></th>\n",
       "      <th>train_ndcg_cut_10</th>\n",
       "      <th>train_recip_rank</th>\n",
       "      <th>train_P_10</th>\n",
       "      <th>train_recall_100</th>\n",
       "      <th>train_recall_1000</th>\n",
       "      <th>train_recall_5000</th>\n",
       "      <th>dev_ndcg_cut_10</th>\n",
       "      <th>dev_recip_rank</th>\n",
       "      <th>dev_P_10</th>\n",
       "      <th>dev_recall_100</th>\n",
       "      <th>dev_recall_1000</th>\n",
       "      <th>dev_recall_5000</th>\n",
       "    </tr>\n",
       "  </thead>\n",
       "  <tbody>\n",
       "    <tr>\n",
       "      <th>0</th>\n",
       "      <td>0.103291</td>\n",
       "      <td>0.089293</td>\n",
       "      <td>0.017333</td>\n",
       "      <td>0.4</td>\n",
       "      <td>0.626667</td>\n",
       "      <td>0.626667</td>\n",
       "      <td>0.114525</td>\n",
       "      <td>0.107749</td>\n",
       "      <td>0.016</td>\n",
       "      <td>0.333333</td>\n",
       "      <td>0.566667</td>\n",
       "      <td>0.566667</td>\n",
       "    </tr>\n",
       "  </tbody>\n",
       "</table>\n",
       "</div>"
      ],
      "text/plain": [
       "   train_ndcg_cut_10  train_recip_rank  train_P_10  train_recall_100  \\\n",
       "0           0.103291          0.089293    0.017333               0.4   \n",
       "\n",
       "   train_recall_1000  train_recall_5000  dev_ndcg_cut_10  dev_recip_rank  \\\n",
       "0           0.626667           0.626667         0.114525        0.107749   \n",
       "\n",
       "   dev_P_10  dev_recall_100  dev_recall_1000  dev_recall_5000  \n",
       "0     0.016        0.333333         0.566667         0.566667  "
      ]
     },
     "execution_count": 7,
     "metadata": {},
     "output_type": "execute_result"
    }
   ],
   "source": [
    "def report_effectiveness(dataset):\n",
    "    queries = pt.io.read_topics(f'../../{dataset}/queries.xml', 'trecxml')\n",
    "    run = pt.Transformer.from_df(pt.io.read_results(f'{dataset}/run.txt'))\n",
    "\n",
    "    ret = pt.Experiment([run], queries, pt.io.read_qrels(f'../../{dataset}/qrels.txt'), eval_metrics=[\"ndcg_cut_10\", 'recip_rank', 'P_10', 'recall_100', 'recall_1000', 'recall_5000'])\n",
    "    \n",
    "    return {i: ret.iloc[0][i] for i in ['ndcg_cut_10', 'recip_rank', 'P_10', 'recall_100', 'recall_1000', 'recall_5000']}\n",
    "\n",
    "def report_pipeline():\n",
    "    ret = {}\n",
    "    for dataset in ['tot-train', 'tot-dev']:\n",
    "        for k,v in report_effectiveness(dataset).items():\n",
    "            ret[dataset.split('-')[1] + '_' + k] = v\n",
    "    return pd.DataFrame([ret])\n",
    "\n",
    "report_pipeline()"
   ]
  }
 ],
 "metadata": {
  "kernelspec": {
   "display_name": "base",
   "language": "python",
   "name": "python3"
  },
  "language_info": {
   "codemirror_mode": {
    "name": "ipython",
    "version": 3
   },
   "file_extension": ".py",
   "mimetype": "text/x-python",
   "name": "python",
   "nbconvert_exporter": "python",
   "pygments_lexer": "ipython3",
   "version": "3.7.13"
  },
  "orig_nbformat": 4
 },
 "nbformat": 4,
 "nbformat_minor": 2
}

{
 "cells": [
  {
   "cell_type": "code",
   "execution_count": 2,
   "metadata": {},
   "outputs": [],
   "source": [
    "from tira.third_party_integrations import ensure_pyterrier_is_loaded, persist_and_normalize_run\n",
    "ensure_pyterrier_is_loaded()\n",
    "\n",
    "import pyterrier as pt\n",
    "from ranx import Run, fuse\n",
    "import pandas as pd"
   ]
  },
  {
   "cell_type": "code",
   "execution_count": 3,
   "metadata": {},
   "outputs": [],
   "source": [
    "for d in ['tot-test', 'tot-train', 'tot-dev']:\n",
    "    runs = [Run.from_file(f'../webis-bm25r-{i}/{d}/run.txt') for i in ['1', '2', '3']]\n",
    "    combined_run = fuse(\n",
    "        runs=runs,            # A list of Run instances to fuse\n",
    "        norm=\"min-max\",       # The normalization strategy to apply before fusion\n",
    "        method=\"rrf\",         # The fusion algorithm to use \n",
    "    )\n",
    "    !mkdir -p {d}\n",
    "    combined_run.save(f'{d}/run.txt')\n",
    "    run = pt.io.read_results(f'{d}/run.txt', format='trec')\n",
    "    persist_and_normalize_run(run, 'webis-bm25rf', f'{d}/run.txt')"
   ]
  },
  {
   "cell_type": "markdown",
   "metadata": {},
   "source": [
    "### Final test to verify that the scores are identical to the hyperparameter tuning."
   ]
  },
  {
   "cell_type": "code",
   "execution_count": 4,
   "metadata": {},
   "outputs": [
    {
     "data": {
      "text/html": [
       "<div>\n",
       "<style scoped>\n",
       "    .dataframe tbody tr th:only-of-type {\n",
       "        vertical-align: middle;\n",
       "    }\n",
       "\n",
       "    .dataframe tbody tr th {\n",
       "        vertical-align: top;\n",
       "    }\n",
       "\n",
       "    .dataframe thead th {\n",
       "        text-align: right;\n",
       "    }\n",
       "</style>\n",
       "<table border=\"1\" class=\"dataframe\">\n",
       "  <thead>\n",
       "    <tr style=\"text-align: right;\">\n",
       "      <th></th>\n",
       "      <th>train_ndcg_cut_10</th>\n",
       "      <th>train_recip_rank</th>\n",
       "      <th>train_P_10</th>\n",
       "      <th>train_recall_100</th>\n",
       "      <th>train_recall_1000</th>\n",
       "      <th>train_recall_5000</th>\n",
       "      <th>dev_ndcg_cut_10</th>\n",
       "      <th>dev_recip_rank</th>\n",
       "      <th>dev_P_10</th>\n",
       "      <th>dev_recall_100</th>\n",
       "      <th>dev_recall_1000</th>\n",
       "      <th>dev_recall_5000</th>\n",
       "    </tr>\n",
       "  </thead>\n",
       "  <tbody>\n",
       "    <tr>\n",
       "      <th>0</th>\n",
       "      <td>0.099582</td>\n",
       "      <td>0.094137</td>\n",
       "      <td>0.013333</td>\n",
       "      <td>0.293333</td>\n",
       "      <td>0.506667</td>\n",
       "      <td>0.506667</td>\n",
       "      <td>0.09877</td>\n",
       "      <td>0.096233</td>\n",
       "      <td>0.012667</td>\n",
       "      <td>0.273333</td>\n",
       "      <td>0.493333</td>\n",
       "      <td>0.493333</td>\n",
       "    </tr>\n",
       "  </tbody>\n",
       "</table>\n",
       "</div>"
      ],
      "text/plain": [
       "   train_ndcg_cut_10  train_recip_rank  train_P_10  train_recall_100  \\\n",
       "0           0.099582          0.094137    0.013333          0.293333   \n",
       "\n",
       "   train_recall_1000  train_recall_5000  dev_ndcg_cut_10  dev_recip_rank  \\\n",
       "0           0.506667           0.506667          0.09877        0.096233   \n",
       "\n",
       "   dev_P_10  dev_recall_100  dev_recall_1000  dev_recall_5000  \n",
       "0  0.012667        0.273333         0.493333         0.493333  "
      ]
     },
     "execution_count": 4,
     "metadata": {},
     "output_type": "execute_result"
    }
   ],
   "source": [
    "def report_effectiveness(dataset):\n",
    "    queries = pt.io.read_topics(f'../../{dataset}/queries.xml', 'trecxml')\n",
    "    run = pt.Transformer.from_df(pt.io.read_results(f'{dataset}/run.txt'))\n",
    "\n",
    "    ret = pt.Experiment([run], queries, pt.io.read_qrels(f'../../{dataset}/qrels.txt'), eval_metrics=[\"ndcg_cut_10\", 'recip_rank', 'P_10', 'recall_100', 'recall_1000', 'recall_5000'])\n",
    "    \n",
    "    return {i: ret.iloc[0][i] for i in ['ndcg_cut_10', 'recip_rank', 'P_10', 'recall_100', 'recall_1000', 'recall_5000']}\n",
    "\n",
    "def report_pipeline():\n",
    "    ret = {}\n",
    "    for dataset in ['tot-train', 'tot-dev']:\n",
    "        for k,v in report_effectiveness(dataset).items():\n",
    "            ret[dataset.split('-')[1] + '_' + k] = v\n",
    "    return pd.DataFrame([ret])\n",
    "\n",
    "report_pipeline()"
   ]
  }
 ],
 "metadata": {
  "kernelspec": {
   "display_name": "base",
   "language": "python",
   "name": "python3"
  },
  "language_info": {
   "codemirror_mode": {
    "name": "ipython",
    "version": 3
   },
   "file_extension": ".py",
   "mimetype": "text/x-python",
   "name": "python",
   "nbconvert_exporter": "python",
   "pygments_lexer": "ipython3",
   "version": "3.7.13"
  },
  "orig_nbformat": 4
 },
 "nbformat": 4,
 "nbformat_minor": 2
}

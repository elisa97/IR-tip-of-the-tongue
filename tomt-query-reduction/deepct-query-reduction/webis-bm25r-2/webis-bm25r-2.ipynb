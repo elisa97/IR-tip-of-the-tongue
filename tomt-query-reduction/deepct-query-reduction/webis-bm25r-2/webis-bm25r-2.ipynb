{
 "cells": [
  {
   "cell_type": "code",
   "execution_count": 2,
   "metadata": {},
   "outputs": [],
   "source": [
    "from tira.third_party_integrations import ensure_pyterrier_is_loaded, persist_and_normalize_run\n",
    "ensure_pyterrier_is_loaded()\n",
    "\n",
    "import pyterrier as pt\n",
    "import os\n",
    "import sys\n",
    "import pandas as pd\n",
    "from tqdm import tqdm\n",
    "sys.path.append('../')\n",
    "from deepct_query_reduction import DeepCTQueryReduction\n",
    "\n",
    "\n",
    "index = pt.IndexRef.of(os.path.abspath('../../pyterrier-index/index/data.properties'))"
   ]
  },
  {
   "cell_type": "code",
   "execution_count": 3,
   "metadata": {},
   "outputs": [],
   "source": [
    "pipeline = '/deepct-models/deepct-main-01/output/model.ckpt-22503;0.70;True'\n",
    "\n",
    "for d in ['tot-test', 'tot-train', 'tot-dev']:\n",
    "    !mkdir -p {d}\n",
    "\n",
    "    queries = pt.io.read_topics(f'../../{d}/queries.xml', 'trecxml')\n",
    "    deep_ct_query_reduction = DeepCTQueryReduction(f'../{d}-deepct-predictions/predictions.json', pipeline).as_transformer()\n",
    "\n",
    "    bm25 = pt.BatchRetrieve(index, wmodel=\"BM25\")\n",
    "\n",
    "    retrieval_pipeline = deep_ct_query_reduction >> bm25\n",
    "\n",
    "    run = retrieval_pipeline(queries)\n",
    "    persist_and_normalize_run(run, 'webis-bm25r-1', f'{d}/run.txt')"
   ]
  },
  {
   "cell_type": "markdown",
   "metadata": {},
   "source": [
    "### Final test to verify that the scores are identical to the hyperparameter tuning."
   ]
  },
  {
   "cell_type": "code",
   "execution_count": 4,
   "metadata": {},
   "outputs": [
    {
     "data": {
      "text/html": [
       "<div>\n",
       "<style scoped>\n",
       "    .dataframe tbody tr th:only-of-type {\n",
       "        vertical-align: middle;\n",
       "    }\n",
       "\n",
       "    .dataframe tbody tr th {\n",
       "        vertical-align: top;\n",
       "    }\n",
       "\n",
       "    .dataframe thead th {\n",
       "        text-align: right;\n",
       "    }\n",
       "</style>\n",
       "<table border=\"1\" class=\"dataframe\">\n",
       "  <thead>\n",
       "    <tr style=\"text-align: right;\">\n",
       "      <th></th>\n",
       "      <th>train_ndcg_cut_10</th>\n",
       "      <th>train_recip_rank</th>\n",
       "      <th>train_P_10</th>\n",
       "      <th>train_recall_100</th>\n",
       "      <th>train_recall_1000</th>\n",
       "      <th>train_recall_5000</th>\n",
       "      <th>dev_ndcg_cut_10</th>\n",
       "      <th>dev_recip_rank</th>\n",
       "      <th>dev_P_10</th>\n",
       "      <th>dev_recall_100</th>\n",
       "      <th>dev_recall_1000</th>\n",
       "      <th>dev_recall_5000</th>\n",
       "    </tr>\n",
       "  </thead>\n",
       "  <tbody>\n",
       "    <tr>\n",
       "      <th>0</th>\n",
       "      <td>0.098709</td>\n",
       "      <td>0.092952</td>\n",
       "      <td>0.013333</td>\n",
       "      <td>0.293333</td>\n",
       "      <td>0.513333</td>\n",
       "      <td>0.513333</td>\n",
       "      <td>0.095243</td>\n",
       "      <td>0.091492</td>\n",
       "      <td>0.012667</td>\n",
       "      <td>0.273333</td>\n",
       "      <td>0.493333</td>\n",
       "      <td>0.493333</td>\n",
       "    </tr>\n",
       "  </tbody>\n",
       "</table>\n",
       "</div>"
      ],
      "text/plain": [
       "   train_ndcg_cut_10  train_recip_rank  train_P_10  train_recall_100  \\\n",
       "0           0.098709          0.092952    0.013333          0.293333   \n",
       "\n",
       "   train_recall_1000  train_recall_5000  dev_ndcg_cut_10  dev_recip_rank  \\\n",
       "0           0.513333           0.513333         0.095243        0.091492   \n",
       "\n",
       "   dev_P_10  dev_recall_100  dev_recall_1000  dev_recall_5000  \n",
       "0  0.012667        0.273333         0.493333         0.493333  "
      ]
     },
     "execution_count": 4,
     "metadata": {},
     "output_type": "execute_result"
    }
   ],
   "source": [
    "def report_effectiveness(dataset):\n",
    "    queries = pt.io.read_topics(f'../../{dataset}/queries.xml', 'trecxml')\n",
    "    run = pt.Transformer.from_df(pt.io.read_results(f'{dataset}/run.txt'))\n",
    "\n",
    "    ret = pt.Experiment([run], queries, pt.io.read_qrels(f'../../{dataset}/qrels.txt'), eval_metrics=[\"ndcg_cut_10\", 'recip_rank', 'P_10', 'recall_100', 'recall_1000', 'recall_5000'])\n",
    "    \n",
    "    return {i: ret.iloc[0][i] for i in ['ndcg_cut_10', 'recip_rank', 'P_10', 'recall_100', 'recall_1000', 'recall_5000']}\n",
    "\n",
    "def report_pipeline():\n",
    "    ret = {}\n",
    "    for dataset in ['tot-train', 'tot-dev']:\n",
    "        for k,v in report_effectiveness(dataset).items():\n",
    "            ret[dataset.split('-')[1] + '_' + k] = v\n",
    "    return pd.DataFrame([ret])\n",
    "\n",
    "report_pipeline()"
   ]
  }
 ],
 "metadata": {
  "kernelspec": {
   "display_name": "base",
   "language": "python",
   "name": "python3"
  },
  "language_info": {
   "codemirror_mode": {
    "name": "ipython",
    "version": 3
   },
   "file_extension": ".py",
   "mimetype": "text/x-python",
   "name": "python",
   "nbconvert_exporter": "python",
   "pygments_lexer": "ipython3",
   "version": "3.7.13"
  },
  "orig_nbformat": 4
 },
 "nbformat": 4,
 "nbformat_minor": 2
}

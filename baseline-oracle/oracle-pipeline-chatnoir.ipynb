{
 "cells": [
  {
   "cell_type": "markdown",
   "id": "8c3da078-f7fc-4d37-904c-532bb26d4321",
   "metadata": {},
   "source": [
    "# Oracle Baseline for TOMT retrieval\n",
    "\n",
    "We use reciprocal rank fusion over the positive queries as oracle"
   ]
  },
  {
   "cell_type": "markdown",
   "id": "66fd2911-c97a-4f91-af28-8c7e381573b6",
   "metadata": {},
   "source": [
    "### Step 1: Import Dependencies"
   ]
  },
  {
   "cell_type": "code",
   "execution_count": 1,
   "id": "7ae3c54f-aba1-45bf-b074-e78a99f6405f",
   "metadata": {},
   "outputs": [
    {
     "name": "stdout",
     "output_type": "stream",
     "text": [
      "Start PyTerrier with version=5.7, helper_version=0.0.7, no_download=True\n"
     ]
    },
    {
     "name": "stderr",
     "output_type": "stream",
     "text": [
      "PyTerrier 0.9.2 has loaded Terrier 5.7 (built by craigm on 2022-11-10 18:30) and terrier-helper 0.0.7\n",
      "\n",
      "No etc/terrier.properties, using terrier.default.properties for bootstrap configuration.\n"
     ]
    },
    {
     "name": "stdout",
     "output_type": "stream",
     "text": [
      "I will use a small hardcoded example located in /workspace/tomt-dataset-tira.\n",
      "The output directory is /tmp/\n",
      "ChatNoir Client will retrieve the top-1000 with page size of 1000 from index ClueWeb22 with 25 retries.\n"
     ]
    }
   ],
   "source": [
    "import pyterrier as pt\n",
    "import pandas as pd\n",
    "from tira.third_party_integrations import ensure_pyterrier_is_loaded, get_preconfigured_chatnoir_client, get_input_directory_and_output_directory, persist_and_normalize_run\n",
    "import json\n",
    "from tqdm import tqdm\n",
    "\n",
    "ensure_pyterrier_is_loaded()\n",
    "input_directory, output_directory = get_input_directory_and_output_directory('/workspace/tomt-dataset-tira')\n",
    "\n",
    "chatnoir = get_preconfigured_chatnoir_client(config_directory = input_directory, features = [], verbose = True, num_results=1000, page_size=1000)"
   ]
  },
  {
   "cell_type": "markdown",
   "id": "3c9050bf-7406-4e44-96a8-e8103c4776da",
   "metadata": {},
   "source": [
    "### Step 2: Load the data"
   ]
  },
  {
   "cell_type": "code",
   "execution_count": 17,
   "id": "e2ba665f-d4ed-4cb4-b294-33af58637102",
   "metadata": {},
   "outputs": [
    {
     "name": "stdout",
     "output_type": "stream",
     "text": [
      "Step 2: Load the data.\n",
      "    qid                                             query\n",
      "0  20_0                         litographs art from books\n",
      "1  20_1                                    litographs.com\n",
      "2  20_2                    litographs t-shirts from books\n",
      "3  21_0                                     Sssscomic.com\n",
      "4  21_1                 stand still stay silent web comic\n",
      "5  21_2  finnish swedish webcomic stand still stay silent\n",
      "6  22_0                  tineye Multicolr Search by color\n",
      "7  22_1                          tineye multicolor search\n",
      "8  22_2                 tineye multicolr MulticolorEngine\n"
     ]
    }
   ],
   "source": [
    "print('Step 2: Load the data.')\n",
    "\n",
    "queries = []\n",
    "num_runs = 0\n",
    "\n",
    "for _, query in pd.read_json(f'{input_directory}/queries.jsonl', lines=True).iterrows():\n",
    "    positive_queries = query['original_query']['positiveQueries']\n",
    "    for positive_query, internal_id in zip(positive_queries, range(len(positive_queries))):\n",
    "        queries += [{'qid': str(query['qid'])  + '_' + str(internal_id), 'query': positive_query}]\n",
    "        num_runs = max(num_runs, internal_id)\n",
    "\n",
    "queries = pd.DataFrame(queries)\n",
    "print(queries)"
   ]
  },
  {
   "cell_type": "markdown",
   "id": "806c4638-ccee-4470-a74c-2a85d9ee2cfc",
   "metadata": {},
   "source": [
    "### Step 3: Create Run"
   ]
  },
  {
   "cell_type": "code",
   "execution_count": 16,
   "id": "a191f396-e896-4792-afaf-574e452640f5",
   "metadata": {},
   "outputs": [
    {
     "name": "stdout",
     "output_type": "stream",
     "text": [
      "Step 3: Create Run.\n"
     ]
    },
    {
     "name": "stderr",
     "output_type": "stream",
     "text": [
      "Searching with ChatNoir: 100%|███████████████████████████████████████████████████████████████████████████████████| 9/9 [00:21<00:00,  2.38s/query]"
     ]
    },
    {
     "name": "stdout",
     "output_type": "stream",
     "text": [
      "       qid                      docno      score  rank\n",
      "1470  22_0  clueweb22-en0035-21-15726  3789.2517     0\n",
      "1372  21_2  clueweb22-en0027-30-10516  3763.0837     0\n",
      "1471  22_0  clueweb22-en0009-94-03715  3747.3723     1\n",
      "1490  22_2  clueweb22-en0035-21-15726  3405.0020     0\n",
      "1491  22_2  clueweb22-en0009-94-03715  3373.2278     1\n"
     ]
    },
    {
     "name": "stderr",
     "output_type": "stream",
     "text": [
      "\n"
     ]
    }
   ],
   "source": [
    "print('Step 3: Create Run.')\n",
    "run = chatnoir(queries)\n",
    "print(run[['qid', 'docno', 'score', 'rank']].head())"
   ]
  },
  {
   "cell_type": "markdown",
   "id": "4f2dfb6a-9168-4f65-96f9-c189372e645e",
   "metadata": {},
   "source": [
    "### Step 4: Do Reciprocal Rank fusion"
   ]
  },
  {
   "cell_type": "code",
   "execution_count": 37,
   "id": "60d5a450-5fae-48bc-b6b8-6214f950e527",
   "metadata": {},
   "outputs": [
    {
     "name": "stdout",
     "output_type": "stream",
     "text": [
      "Do reciprocal rank fusion\n",
      "Run with id 0 has 226 documents\n",
      "Run with id 1 has 1030 documents\n",
      "Run with id 2 has 241 documents\n"
     ]
    },
    {
     "data": {
      "text/html": [
       "<div>\n",
       "<style scoped>\n",
       "    .dataframe tbody tr th:only-of-type {\n",
       "        vertical-align: middle;\n",
       "    }\n",
       "\n",
       "    .dataframe tbody tr th {\n",
       "        vertical-align: top;\n",
       "    }\n",
       "\n",
       "    .dataframe thead th {\n",
       "        text-align: right;\n",
       "    }\n",
       "</style>\n",
       "<table border=\"1\" class=\"dataframe\">\n",
       "  <thead>\n",
       "    <tr style=\"text-align: right;\">\n",
       "      <th></th>\n",
       "      <th>q0</th>\n",
       "      <th>rank</th>\n",
       "      <th>score</th>\n",
       "      <th>system</th>\n",
       "      <th>qid</th>\n",
       "      <th>docno</th>\n",
       "    </tr>\n",
       "  </thead>\n",
       "  <tbody>\n",
       "    <tr>\n",
       "      <th>0</th>\n",
       "      <td>Q0</td>\n",
       "      <td>1</td>\n",
       "      <td>0.047627</td>\n",
       "      <td>reciprocal_rank_fusion_k=60</td>\n",
       "      <td>20</td>\n",
       "      <td>clueweb22-en0024-09-06042</td>\n",
       "    </tr>\n",
       "    <tr>\n",
       "      <th>1</th>\n",
       "      <td>Q0</td>\n",
       "      <td>2</td>\n",
       "      <td>0.046871</td>\n",
       "      <td>reciprocal_rank_fusion_k=60</td>\n",
       "      <td>20</td>\n",
       "      <td>clueweb22-en0041-37-00460</td>\n",
       "    </tr>\n",
       "    <tr>\n",
       "      <th>2</th>\n",
       "      <td>Q0</td>\n",
       "      <td>3</td>\n",
       "      <td>0.045695</td>\n",
       "      <td>reciprocal_rank_fusion_k=60</td>\n",
       "      <td>20</td>\n",
       "      <td>clueweb22-en0023-36-06642</td>\n",
       "    </tr>\n",
       "    <tr>\n",
       "      <th>3</th>\n",
       "      <td>Q0</td>\n",
       "      <td>4</td>\n",
       "      <td>0.045291</td>\n",
       "      <td>reciprocal_rank_fusion_k=60</td>\n",
       "      <td>20</td>\n",
       "      <td>clueweb22-en0028-53-13178</td>\n",
       "    </tr>\n",
       "    <tr>\n",
       "      <th>4</th>\n",
       "      <td>Q0</td>\n",
       "      <td>5</td>\n",
       "      <td>0.043329</td>\n",
       "      <td>reciprocal_rank_fusion_k=60</td>\n",
       "      <td>20</td>\n",
       "      <td>clueweb22-en0027-37-15110</td>\n",
       "    </tr>\n",
       "    <tr>\n",
       "      <th>...</th>\n",
       "      <td>...</td>\n",
       "      <td>...</td>\n",
       "      <td>...</td>\n",
       "      <td>...</td>\n",
       "      <td>...</td>\n",
       "      <td>...</td>\n",
       "    </tr>\n",
       "    <tr>\n",
       "      <th>1245</th>\n",
       "      <td>Q0</td>\n",
       "      <td>15</td>\n",
       "      <td>0.013889</td>\n",
       "      <td>reciprocal_rank_fusion_k=60</td>\n",
       "      <td>22</td>\n",
       "      <td>clueweb22-en0034-65-11420</td>\n",
       "    </tr>\n",
       "    <tr>\n",
       "      <th>1246</th>\n",
       "      <td>Q0</td>\n",
       "      <td>16</td>\n",
       "      <td>0.013699</td>\n",
       "      <td>reciprocal_rank_fusion_k=60</td>\n",
       "      <td>22</td>\n",
       "      <td>clueweb22-en0046-41-13565</td>\n",
       "    </tr>\n",
       "    <tr>\n",
       "      <th>1247</th>\n",
       "      <td>Q0</td>\n",
       "      <td>17</td>\n",
       "      <td>0.013514</td>\n",
       "      <td>reciprocal_rank_fusion_k=60</td>\n",
       "      <td>22</td>\n",
       "      <td>clueweb22-en0015-84-05128</td>\n",
       "    </tr>\n",
       "    <tr>\n",
       "      <th>1248</th>\n",
       "      <td>Q0</td>\n",
       "      <td>18</td>\n",
       "      <td>0.013333</td>\n",
       "      <td>reciprocal_rank_fusion_k=60</td>\n",
       "      <td>22</td>\n",
       "      <td>clueweb22-en0007-39-17259</td>\n",
       "    </tr>\n",
       "    <tr>\n",
       "      <th>1249</th>\n",
       "      <td>Q0</td>\n",
       "      <td>19</td>\n",
       "      <td>0.013158</td>\n",
       "      <td>reciprocal_rank_fusion_k=60</td>\n",
       "      <td>22</td>\n",
       "      <td>clueweb22-en0022-59-04187</td>\n",
       "    </tr>\n",
       "  </tbody>\n",
       "</table>\n",
       "<p>1250 rows × 6 columns</p>\n",
       "</div>"
      ],
      "text/plain": [
       "      q0  rank     score                       system qid  \\\n",
       "0     Q0     1  0.047627  reciprocal_rank_fusion_k=60  20   \n",
       "1     Q0     2  0.046871  reciprocal_rank_fusion_k=60  20   \n",
       "2     Q0     3  0.045695  reciprocal_rank_fusion_k=60  20   \n",
       "3     Q0     4  0.045291  reciprocal_rank_fusion_k=60  20   \n",
       "4     Q0     5  0.043329  reciprocal_rank_fusion_k=60  20   \n",
       "...   ..   ...       ...                          ...  ..   \n",
       "1245  Q0    15  0.013889  reciprocal_rank_fusion_k=60  22   \n",
       "1246  Q0    16  0.013699  reciprocal_rank_fusion_k=60  22   \n",
       "1247  Q0    17  0.013514  reciprocal_rank_fusion_k=60  22   \n",
       "1248  Q0    18  0.013333  reciprocal_rank_fusion_k=60  22   \n",
       "1249  Q0    19  0.013158  reciprocal_rank_fusion_k=60  22   \n",
       "\n",
       "                          docno  \n",
       "0     clueweb22-en0024-09-06042  \n",
       "1     clueweb22-en0041-37-00460  \n",
       "2     clueweb22-en0023-36-06642  \n",
       "3     clueweb22-en0028-53-13178  \n",
       "4     clueweb22-en0027-37-15110  \n",
       "...                         ...  \n",
       "1245  clueweb22-en0034-65-11420  \n",
       "1246  clueweb22-en0046-41-13565  \n",
       "1247  clueweb22-en0015-84-05128  \n",
       "1248  clueweb22-en0007-39-17259  \n",
       "1249  clueweb22-en0022-59-04187  \n",
       "\n",
       "[1250 rows x 6 columns]"
      ]
     },
     "execution_count": 37,
     "metadata": {},
     "output_type": "execute_result"
    }
   ],
   "source": [
    "print('Do reciprocal rank fusion')\n",
    "\n",
    "from trectools import TrecRun, fusion\n",
    "\n",
    "all_runs = []\n",
    "\n",
    "for run_id in range(num_runs +1):\n",
    "    r = []\n",
    "    \n",
    "    for _, i in run.iterrows():\n",
    "        if i['qid'].endswith(f'_{run_id}'):\n",
    "            r += [{'query': i['qid'].split('_')[0], 'docid': i['docno'], 'score': i['score'], 'rank': i['rank']}]\n",
    "    tr = TrecRun()\n",
    "    tr.run_data = pd.DataFrame(r)\n",
    "    all_runs += [tr]\n",
    "    print(f'Run with id {run_id} has {len(r)} documents')\n",
    "\n",
    "fused_run = fusion.reciprocal_rank_fusion(all_runs)\n",
    "fused_run = fused_run.run_data\n",
    "\n",
    "fused_run['qid'] = fused_run['query']\n",
    "del fused_run['query']\n",
    "fused_run['docno'] = fused_run['docid']\n",
    "del fused_run['docid']\n",
    "\n",
    "fused_run"
   ]
  },
  {
   "cell_type": "markdown",
   "id": "28c40a2e-0f96-4ae8-aa5e-55a5e7ef9dee",
   "metadata": {},
   "source": [
    "### Step 5: Persist Run"
   ]
  },
  {
   "cell_type": "code",
   "execution_count": 38,
   "id": "12e5bb42-ed1f-41ba-b7a5-cb43ebca96f6",
   "metadata": {},
   "outputs": [
    {
     "name": "stdout",
     "output_type": "stream",
     "text": [
      "Step 5: Persist Run.\n",
      "Done...\n"
     ]
    }
   ],
   "source": [
    "print('Step 5: Persist Run.')\n",
    "\n",
    "persist_and_normalize_run(fused_run, 'chatnoir-oracle-baseline', output_file=output_directory + '/run.txt')\n",
    "\n",
    "print('Done...')"
   ]
  },
  {
   "cell_type": "code",
   "execution_count": 39,
   "id": "c0d96fc7-2f9c-421a-92f9-a5b32bca696c",
   "metadata": {},
   "outputs": [
    {
     "name": "stdout",
     "output_type": "stream",
     "text": [
      "20 0 clueweb22-en0024-09-06042 1 0.04762704813108039 chatnoir-oracle-baseline\n",
      "20 0 clueweb22-en0041-37-00460 2 0.046871392288155164 chatnoir-oracle-baseline\n",
      "20 0 clueweb22-en0023-36-06642 3 0.04569460390355913 chatnoir-oracle-baseline\n"
     ]
    }
   ],
   "source": [
    "!head -3 {output_directory}/run.txt"
   ]
  }
 ],
 "metadata": {
  "kernelspec": {
   "display_name": "Python 3 (ipykernel)",
   "language": "python",
   "name": "python3"
  },
  "language_info": {
   "codemirror_mode": {
    "name": "ipython",
    "version": 3
   },
   "file_extension": ".py",
   "mimetype": "text/x-python",
   "name": "python",
   "nbconvert_exporter": "python",
   "pygments_lexer": "ipython3",
   "version": "3.7.13"
  }
 },
 "nbformat": 4,
 "nbformat_minor": 5
}

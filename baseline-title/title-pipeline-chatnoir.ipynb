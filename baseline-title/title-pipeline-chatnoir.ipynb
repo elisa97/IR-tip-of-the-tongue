{
 "cells": [
  {
   "cell_type": "markdown",
   "id": "8c3da078-f7fc-4d37-904c-532bb26d4321",
   "metadata": {},
   "source": [
    "# Title Baseline for TOMT retrieval\n",
    "\n",
    "### Resources\n",
    "\n",
    "- The [PyTerrier tutorial](https://github.com/terrier-org/ecir2021tutorial)\n",
    "- The [PyTerrier documentation](https://pyterrier.readthedocs.io/en/latest/)\n",
    "\n"
   ]
  },
  {
   "cell_type": "markdown",
   "id": "66fd2911-c97a-4f91-af28-8c7e381573b6",
   "metadata": {},
   "source": [
    "### Step 1: Import Dependencies"
   ]
  },
  {
   "cell_type": "code",
   "execution_count": 6,
   "id": "7ae3c54f-aba1-45bf-b074-e78a99f6405f",
   "metadata": {},
   "outputs": [
    {
     "name": "stdout",
     "output_type": "stream",
     "text": [
      "I will use a small hardcoded example located in /workspace/tomt-dataset-tira.\n",
      "The output directory is /tmp/\n",
      "ChatNoir Client will retrieve the top-1000 with page size of 1000 from index ClueWeb22 with 25 retries.\n"
     ]
    }
   ],
   "source": [
    "import pyterrier as pt\n",
    "import pandas as pd\n",
    "from tira.third_party_integrations import ensure_pyterrier_is_loaded, get_preconfigured_chatnoir_client, get_input_directory_and_output_directory, persist_and_normalize_run\n",
    "import json\n",
    "from tqdm import tqdm\n",
    "\n",
    "ensure_pyterrier_is_loaded()\n",
    "input_directory, output_directory = get_input_directory_and_output_directory('/workspace/tomt-dataset-tira')\n",
    "\n",
    "chatnoir = get_preconfigured_chatnoir_client(config_directory = input_directory, features = [], verbose = True, num_results=1000, page_size=1000)"
   ]
  },
  {
   "cell_type": "markdown",
   "id": "8c563b0e-97ac-44a2-ba2f-18858f1506bb",
   "metadata": {},
   "source": [
    "### Step 2: Load the Data"
   ]
  },
  {
   "cell_type": "code",
   "execution_count": 2,
   "id": "e35230af-66ec-4607-a97b-127bd890fa59",
   "metadata": {},
   "outputs": [
    {
     "name": "stdout",
     "output_type": "stream",
     "text": [
      "Step 2: Load the data.\n"
     ]
    }
   ],
   "source": [
    "print('Step 2: Load the data.')\n",
    "\n",
    "queries = pt.io.read_topics(input_directory + '/queries.xml', format='trecxml')"
   ]
  },
  {
   "cell_type": "code",
   "execution_count": 4,
   "id": "ea85fcc0-8ab6-491f-976e-12347274e32d",
   "metadata": {},
   "outputs": [
    {
     "name": "stdout",
     "output_type": "stream",
     "text": [
      "  qid                                              query\n",
      "0  20   website selling t shirts bags posters with te...\n",
      "1  21   dutch dystopian webcomic having a white laven...\n",
      "2  22   search engine for pictures of a predominant c...\n"
     ]
    }
   ],
   "source": [
    "print(queries)"
   ]
  },
  {
   "cell_type": "markdown",
   "id": "806c4638-ccee-4470-a74c-2a85d9ee2cfc",
   "metadata": {},
   "source": [
    "### Step 3: Create Run"
   ]
  },
  {
   "cell_type": "code",
   "execution_count": 5,
   "id": "a191f396-e896-4792-afaf-574e452640f5",
   "metadata": {},
   "outputs": [
    {
     "name": "stdout",
     "output_type": "stream",
     "text": [
      "Step 3: Create Run.\n"
     ]
    },
    {
     "name": "stderr",
     "output_type": "stream",
     "text": [
      "Searching with ChatNoir: 100%|██████████████████████████████████████████████████████████████████████████████████| 3/3 [09:40<00:00, 193.62s/query]\n"
     ]
    }
   ],
   "source": [
    "print('Step 3: Create Run.')\n",
    "run = chatnoir(queries)"
   ]
  },
  {
   "cell_type": "code",
   "execution_count": 7,
   "id": "c0e07fca-de98-4de2-b6a7-abfd516c652c",
   "metadata": {},
   "outputs": [
    {
     "data": {
      "text/html": [
       "<div>\n",
       "<style scoped>\n",
       "    .dataframe tbody tr th:only-of-type {\n",
       "        vertical-align: middle;\n",
       "    }\n",
       "\n",
       "    .dataframe tbody tr th {\n",
       "        vertical-align: top;\n",
       "    }\n",
       "\n",
       "    .dataframe thead th {\n",
       "        text-align: right;\n",
       "    }\n",
       "</style>\n",
       "<table border=\"1\" class=\"dataframe\">\n",
       "  <thead>\n",
       "    <tr style=\"text-align: right;\">\n",
       "      <th></th>\n",
       "      <th>qid</th>\n",
       "      <th>query</th>\n",
       "      <th>docno</th>\n",
       "      <th>score</th>\n",
       "      <th>rank</th>\n",
       "    </tr>\n",
       "  </thead>\n",
       "  <tbody>\n",
       "    <tr>\n",
       "      <th>0</th>\n",
       "      <td>20</td>\n",
       "      <td>website selling t shirts bags posters with te...</td>\n",
       "      <td>clueweb22-en0032-53-13789</td>\n",
       "      <td>1446.5402</td>\n",
       "      <td>0</td>\n",
       "    </tr>\n",
       "    <tr>\n",
       "      <th>1</th>\n",
       "      <td>20</td>\n",
       "      <td>website selling t shirts bags posters with te...</td>\n",
       "      <td>clueweb22-en0004-43-14766</td>\n",
       "      <td>1431.8256</td>\n",
       "      <td>1</td>\n",
       "    </tr>\n",
       "    <tr>\n",
       "      <th>2</th>\n",
       "      <td>20</td>\n",
       "      <td>website selling t shirts bags posters with te...</td>\n",
       "      <td>clueweb22-en0036-45-11003</td>\n",
       "      <td>1398.1755</td>\n",
       "      <td>2</td>\n",
       "    </tr>\n",
       "  </tbody>\n",
       "</table>\n",
       "</div>"
      ],
      "text/plain": [
       "  qid                                              query  \\\n",
       "0  20   website selling t shirts bags posters with te...   \n",
       "1  20   website selling t shirts bags posters with te...   \n",
       "2  20   website selling t shirts bags posters with te...   \n",
       "\n",
       "                       docno      score  rank  \n",
       "0  clueweb22-en0032-53-13789  1446.5402     0  \n",
       "1  clueweb22-en0004-43-14766  1431.8256     1  \n",
       "2  clueweb22-en0036-45-11003  1398.1755     2  "
      ]
     },
     "execution_count": 7,
     "metadata": {},
     "output_type": "execute_result"
    }
   ],
   "source": [
    "run.head(3)"
   ]
  },
  {
   "cell_type": "code",
   "execution_count": 6,
   "id": "8c5a31ba-5008-4665-9e22-86dd63e07eb1",
   "metadata": {},
   "outputs": [
    {
     "name": "stdout",
     "output_type": "stream",
     "text": [
      "Step 4: Run stence detection\n"
     ]
    }
   ],
   "source": [
    "print('Step 4: Run stence detection')\n",
    "\n",
    "def detect_stance(query_document_pair):\n",
    "    # As baseline, we return always neutral\n",
    "    return 'NEU'\n",
    "\n",
    "run['Q0'] = run.apply(lambda i: detect_stance(i), axis=1)\n"
   ]
  },
  {
   "cell_type": "markdown",
   "id": "28c40a2e-0f96-4ae8-aa5e-55a5e7ef9dee",
   "metadata": {},
   "source": [
    "### Step 4: Persist Run"
   ]
  },
  {
   "cell_type": "code",
   "execution_count": 8,
   "id": "12e5bb42-ed1f-41ba-b7a5-cb43ebca96f6",
   "metadata": {},
   "outputs": [
    {
     "name": "stdout",
     "output_type": "stream",
     "text": [
      "Step 4: Persist Run.\n",
      "Done...\n"
     ]
    }
   ],
   "source": [
    "print('Step 4: Persist Run.')\n",
    "\n",
    "persist_and_normalize_run(run, 'chatnoir-title-baseline', output_file=output_directory + '/run.txt')\n",
    "\n",
    "print('Done...')"
   ]
  },
  {
   "cell_type": "code",
   "execution_count": 9,
   "id": "c0d96fc7-2f9c-421a-92f9-a5b32bca696c",
   "metadata": {},
   "outputs": [
    {
     "name": "stdout",
     "output_type": "stream",
     "text": [
      "20 0 clueweb22-en0032-53-13789 1 1446.5402 chatnoir-title-baseline\n",
      "20 0 clueweb22-en0004-43-14766 2 1431.8256 chatnoir-title-baseline\n",
      "20 0 clueweb22-en0036-45-11003 3 1398.1755 chatnoir-title-baseline\n"
     ]
    }
   ],
   "source": [
    "!head -3 {output_directory}/run.txt"
   ]
  }
 ],
 "metadata": {
  "kernelspec": {
   "display_name": "Python 3 (ipykernel)",
   "language": "python",
   "name": "python3"
  },
  "language_info": {
   "codemirror_mode": {
    "name": "ipython",
    "version": 3
   },
   "file_extension": ".py",
   "mimetype": "text/x-python",
   "name": "python",
   "nbconvert_exporter": "python",
   "pygments_lexer": "ipython3",
   "version": "3.7.13"
  }
 },
 "nbformat": 4,
 "nbformat_minor": 5
}

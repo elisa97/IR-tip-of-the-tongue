{
 "cells": [
  {
   "cell_type": "code",
   "execution_count": 35,
   "metadata": {},
   "outputs": [],
   "source": [
    "#import json\n",
    "import ijson\n",
    "import simplejson\n",
    "import pandas as pd\n",
    "import seaborn as sns\n",
    "import matplotlib.pyplot as plt\n"
   ]
  },
  {
   "cell_type": "code",
   "execution_count": 11,
   "metadata": {},
   "outputs": [
    {
     "name": "stdout",
     "output_type": "stream",
     "text": [
      "shuf: write error: Broken pipe\r\n",
      "shuf: write error\r\n"
     ]
    }
   ],
   "source": [
    "!cat ./reddit-tomt-submissions.jsonl | shuf | head -100000 > json-tomt-sample.jsonl"
   ]
  },
  {
   "cell_type": "code",
   "execution_count": 12,
   "metadata": {},
   "outputs": [
    {
     "name": "stdout",
     "output_type": "stream",
     "text": [
      "100000\r\n"
     ]
    }
   ],
   "source": [
    "!cat json-tomt-sample.jsonl | wc -l"
   ]
  },
  {
   "cell_type": "code",
   "execution_count": 16,
   "metadata": {},
   "outputs": [],
   "source": [
    "df = pd.read_json(\"./json-tomt-sample.jsonl\", lines=True)"
   ]
  },
  {
   "cell_type": "code",
   "execution_count": 22,
   "metadata": {},
   "outputs": [],
   "source": [
    "df['category'] = df.apply(lambda i: extract_category(i), axis=1)"
   ]
  },
  {
   "cell_type": "code",
   "execution_count": 23,
   "metadata": {},
   "outputs": [
    {
     "data": {
      "text/html": [
       "<div>\n",
       "<style scoped>\n",
       "    .dataframe tbody tr th:only-of-type {\n",
       "        vertical-align: middle;\n",
       "    }\n",
       "\n",
       "    .dataframe tbody tr th {\n",
       "        vertical-align: top;\n",
       "    }\n",
       "\n",
       "    .dataframe thead th {\n",
       "        text-align: right;\n",
       "    }\n",
       "</style>\n",
       "<table border=\"1\" class=\"dataframe\">\n",
       "  <thead>\n",
       "    <tr style=\"text-align: right;\">\n",
       "      <th></th>\n",
       "      <th>hide_score</th>\n",
       "      <th>domain</th>\n",
       "      <th>author_flair_text</th>\n",
       "      <th>created_utc</th>\n",
       "      <th>solved_utc</th>\n",
       "      <th>subreddit</th>\n",
       "      <th>media_embed</th>\n",
       "      <th>secure_media_embed</th>\n",
       "      <th>chosen_answer</th>\n",
       "      <th>links_on_answer_path</th>\n",
       "      <th>...</th>\n",
       "      <th>brand_safe</th>\n",
       "      <th>mod_note</th>\n",
       "      <th>mod_reason_by</th>\n",
       "      <th>mod_reason_title</th>\n",
       "      <th>approved_at_utc</th>\n",
       "      <th>banned_at_utc</th>\n",
       "      <th>rte_mode</th>\n",
       "      <th>post_categories</th>\n",
       "      <th>visited</th>\n",
       "      <th>previous_visits</th>\n",
       "    </tr>\n",
       "  </thead>\n",
       "  <tbody>\n",
       "    <tr>\n",
       "      <th>0</th>\n",
       "      <td>NaN</td>\n",
       "      <td>self.tipofmytongue</td>\n",
       "      <td>None</td>\n",
       "      <td>1557725027</td>\n",
       "      <td>1557725407</td>\n",
       "      <td>tipofmytongue</td>\n",
       "      <td>{}</td>\n",
       "      <td>{}</td>\n",
       "      <td>bit of a long shot but  [Pocoyo](https://tvtro...</td>\n",
       "      <td>[https://tvtropes.org/pmwiki/pmwiki.php/Wester...</td>\n",
       "      <td>...</td>\n",
       "      <td>NaN</td>\n",
       "      <td>NaN</td>\n",
       "      <td>NaN</td>\n",
       "      <td>NaN</td>\n",
       "      <td>NaN</td>\n",
       "      <td>NaN</td>\n",
       "      <td>None</td>\n",
       "      <td>NaN</td>\n",
       "      <td>NaN</td>\n",
       "      <td>None</td>\n",
       "    </tr>\n",
       "    <tr>\n",
       "      <th>1</th>\n",
       "      <td>0.0</td>\n",
       "      <td>self.tipofmytongue</td>\n",
       "      <td>None</td>\n",
       "      <td>1454487496</td>\n",
       "      <td></td>\n",
       "      <td>tipofmytongue</td>\n",
       "      <td>{}</td>\n",
       "      <td>{}</td>\n",
       "      <td></td>\n",
       "      <td>[]</td>\n",
       "      <td>...</td>\n",
       "      <td>NaN</td>\n",
       "      <td>NaN</td>\n",
       "      <td>NaN</td>\n",
       "      <td>NaN</td>\n",
       "      <td>NaN</td>\n",
       "      <td>NaN</td>\n",
       "      <td>None</td>\n",
       "      <td>NaN</td>\n",
       "      <td>NaN</td>\n",
       "      <td>None</td>\n",
       "    </tr>\n",
       "  </tbody>\n",
       "</table>\n",
       "<p>2 rows × 127 columns</p>\n",
       "</div>"
      ],
      "text/plain": [
       "   hide_score              domain author_flair_text  created_utc  solved_utc   \n",
       "0         NaN  self.tipofmytongue              None   1557725027  1557725407  \\\n",
       "1         0.0  self.tipofmytongue              None   1454487496               \n",
       "\n",
       "       subreddit media_embed secure_media_embed   \n",
       "0  tipofmytongue          {}                 {}  \\\n",
       "1  tipofmytongue          {}                 {}   \n",
       "\n",
       "                                       chosen_answer   \n",
       "0  bit of a long shot but  [Pocoyo](https://tvtro...  \\\n",
       "1                                                      \n",
       "\n",
       "                                links_on_answer_path  ... brand_safe mod_note   \n",
       "0  [https://tvtropes.org/pmwiki/pmwiki.php/Wester...  ...        NaN      NaN  \\\n",
       "1                                                 []  ...        NaN      NaN   \n",
       "\n",
       "   mod_reason_by  mod_reason_title approved_at_utc banned_at_utc  rte_mode   \n",
       "0            NaN               NaN             NaN           NaN      None  \\\n",
       "1            NaN               NaN             NaN           NaN      None   \n",
       "\n",
       "   post_categories visited previous_visits  \n",
       "0              NaN     NaN            None  \n",
       "1              NaN     NaN            None  \n",
       "\n",
       "[2 rows x 127 columns]"
      ]
     },
     "execution_count": 23,
     "metadata": {},
     "output_type": "execute_result"
    }
   ],
   "source": [
    "df.head(2)"
   ]
  },
  {
   "cell_type": "code",
   "execution_count": 24,
   "metadata": {},
   "outputs": [
    {
     "data": {
      "text/plain": [
       "{'hide_score': nan,\n",
       " 'domain': 'self.tipofmytongue',\n",
       " 'author_flair_text': None,\n",
       " 'created_utc': 1557725027,\n",
       " 'solved_utc': 1557725407,\n",
       " 'subreddit': 'tipofmytongue',\n",
       " 'media_embed': {},\n",
       " 'secure_media_embed': {},\n",
       " 'chosen_answer': 'bit of a long shot but  [Pocoyo](https://tvtropes.org/pmwiki/pmwiki.php/WesternAnimation/Pocoyo)?',\n",
       " 'links_on_answer_path': ['https://tvtropes.org/pmwiki/pmwiki.php/WesternAnimation/Pocoyo)?'],\n",
       " 'title': '[TOMT][KID’S SHOW] Nick Jr. claymation show?',\n",
       " 'thumbnail': 'self',\n",
       " 'downs': nan,\n",
       " 'distinguished': nan,\n",
       " 'link_flair_text': 'Solved',\n",
       " 'permalink': '/r/tipofmytongue/comments/bnzd3x/tomtkids_show_nick_jr_claymation_show/',\n",
       " 'ups': nan,\n",
       " 'retrieved_on': 1560704934.0,\n",
       " 'content': 'I have one vague memory of a claymation kid’s show. It had a dog character, possibly a kid character(unsure), and a British narrator. I think it also had a penguin character that had a hat that did some crazy things. Also I think the show always took place in a white void. Don’t get it twisted though, I’m not thinking of that claymation penguin “noot noot” show.',\n",
       " 'media': None,\n",
       " 'link_flair_css_class': 'solvedcase',\n",
       " 'name': None,\n",
       " 'gilded': 0.0,\n",
       " 'archived': 0.0,\n",
       " 'id': 'bnzd3x',\n",
       " 'author_flair_css_class': None,\n",
       " 'num_comments': 5,\n",
       " 'over_18': False,\n",
       " 'saved': nan,\n",
       " 'is_self': True,\n",
       " 'from': nan,\n",
       " 'author': 'PrezyDante',\n",
       " 'stickied': 0.0,\n",
       " 'from_id': nan,\n",
       " 'from_kind': nan,\n",
       " 'subreddit_id': 't5_2r4oc',\n",
       " 'created': nan,\n",
       " 'secure_media': None,\n",
       " 'url': 'https://www.reddit.com/r/tipofmytongue/comments/bnzd3x/tomtkids_show_nick_jr_claymation_show/',\n",
       " 'score': 3,\n",
       " 'edited': 0,\n",
       " 'quarantine': 0.0,\n",
       " 'comments': [{'all_awardings': [],\n",
       "   'author': 'ClairieO',\n",
       "   'author_created_utc': 1353317609,\n",
       "   'author_flair_background_color': '',\n",
       "   'author_flair_css_class': None,\n",
       "   'author_flair_richtext': [],\n",
       "   'author_flair_template_id': None,\n",
       "   'author_flair_text': '1536',\n",
       "   'author_flair_text_color': 'dark',\n",
       "   'author_flair_type': 'text',\n",
       "   'author_fullname': 't2_9nc8a',\n",
       "   'author_patreon_flair': False,\n",
       "   'body': 'bit of a long shot but  [Pocoyo](https://tvtropes.org/pmwiki/pmwiki.php/WesternAnimation/Pocoyo)?',\n",
       "   'can_gild': True,\n",
       "   'can_mod_post': False,\n",
       "   'collapsed': False,\n",
       "   'collapsed_reason': None,\n",
       "   'controversiality': 0,\n",
       "   'created_utc': 1557725407,\n",
       "   'distinguished': None,\n",
       "   'edited': False,\n",
       "   'gilded': 0,\n",
       "   'gildings': {},\n",
       "   'id': 'enap6e2',\n",
       "   'is_submitter': False,\n",
       "   'link_id': 't3_bnzd3x',\n",
       "   'locked': False,\n",
       "   'no_follow': True,\n",
       "   'parent_id': 't3_bnzd3x',\n",
       "   'permalink': '/r/tipofmytongue/comments/bnzd3x/tomtkids_show_nick_jr_claymation_show/enap6e2/',\n",
       "   'quarantined': False,\n",
       "   'removal_reason': None,\n",
       "   'retrieved_on': 1562025678,\n",
       "   'score': 3,\n",
       "   'send_replies': True,\n",
       "   'stickied': False,\n",
       "   'subreddit': 'tipofmytongue',\n",
       "   'subreddit_id': 't5_2r4oc',\n",
       "   'subreddit_name_prefixed': 'r/tipofmytongue',\n",
       "   'subreddit_type': 'public',\n",
       "   'total_awards_received': 0,\n",
       "   'comments': [{'all_awardings': [],\n",
       "     'author': 'WhatIsThisBot',\n",
       "     'author_created_utc': 1358822784,\n",
       "     'author_flair_background_color': '',\n",
       "     'author_flair_css_class': None,\n",
       "     'author_flair_richtext': [],\n",
       "     'author_flair_template_id': None,\n",
       "     'author_flair_text': '2/∞',\n",
       "     'author_flair_text_color': 'dark',\n",
       "     'author_flair_type': 'text',\n",
       "     'author_fullname': 't2_abc8z',\n",
       "     'author_patreon_flair': False,\n",
       "     'body': 'You have been given one point for this answer.  \\n  Thanks for contributing!  \\n\\n  ^^^PrezyDante ^^^awarded ^^^to ^^^ClairieO ^^^\\\\(1261\\\\)',\n",
       "     'can_gild': True,\n",
       "     'can_mod_post': False,\n",
       "     'collapsed': False,\n",
       "     'collapsed_reason': None,\n",
       "     'controversiality': 0,\n",
       "     'created_utc': 1557747542,\n",
       "     'distinguished': None,\n",
       "     'edited': False,\n",
       "     'gilded': 0,\n",
       "     'gildings': {},\n",
       "     'id': 'enbhhxg',\n",
       "     'is_submitter': False,\n",
       "     'link_id': 't3_bnzd3x',\n",
       "     'locked': False,\n",
       "     'no_follow': True,\n",
       "     'parent_id': 't1_enap6e2',\n",
       "     'permalink': '/r/tipofmytongue/comments/bnzd3x/tomtkids_show_nick_jr_claymation_show/enbhhxg/',\n",
       "     'quarantined': False,\n",
       "     'removal_reason': None,\n",
       "     'retrieved_on': 1562039069,\n",
       "     'score': 1,\n",
       "     'send_replies': True,\n",
       "     'stickied': False,\n",
       "     'subreddit': 'tipofmytongue',\n",
       "     'subreddit_id': 't5_2r4oc',\n",
       "     'subreddit_name_prefixed': 'r/tipofmytongue',\n",
       "     'subreddit_type': 'public',\n",
       "     'total_awards_received': 0,\n",
       "     'comments': []},\n",
       "    {'all_awardings': [],\n",
       "     'author': 'PrezyDante',\n",
       "     'author_created_utc': 1501634594,\n",
       "     'author_flair_background_color': None,\n",
       "     'author_flair_css_class': None,\n",
       "     'author_flair_richtext': [],\n",
       "     'author_flair_template_id': None,\n",
       "     'author_flair_text': None,\n",
       "     'author_flair_text_color': None,\n",
       "     'author_flair_type': 'text',\n",
       "     'author_fullname': 't2_93bvfuc',\n",
       "     'author_patreon_flair': False,\n",
       "     'body': 'Solved! Holy shit, I thought I’d never find it. My memory of it has obviously altered over the years. Thanks!',\n",
       "     'can_gild': True,\n",
       "     'can_mod_post': False,\n",
       "     'collapsed': False,\n",
       "     'collapsed_reason': None,\n",
       "     'controversiality': 0,\n",
       "     'created_utc': 1557725529,\n",
       "     'distinguished': None,\n",
       "     'edited': False,\n",
       "     'gilded': 0,\n",
       "     'gildings': {},\n",
       "     'id': 'enapd1j',\n",
       "     'is_submitter': True,\n",
       "     'link_id': 't3_bnzd3x',\n",
       "     'locked': False,\n",
       "     'no_follow': True,\n",
       "     'parent_id': 't1_enap6e2',\n",
       "     'permalink': '/r/tipofmytongue/comments/bnzd3x/tomtkids_show_nick_jr_claymation_show/enapd1j/',\n",
       "     'quarantined': False,\n",
       "     'removal_reason': None,\n",
       "     'retrieved_on': 1562025765,\n",
       "     'score': 3,\n",
       "     'send_replies': True,\n",
       "     'stickied': False,\n",
       "     'subreddit': 'tipofmytongue',\n",
       "     'subreddit_id': 't5_2r4oc',\n",
       "     'subreddit_name_prefixed': 'r/tipofmytongue',\n",
       "     'subreddit_type': 'public',\n",
       "     'total_awards_received': 0,\n",
       "     'comments': [{'all_awardings': [],\n",
       "       'author': '[deleted]',\n",
       "       'author_created_utc': None,\n",
       "       'author_flair_background_color': '',\n",
       "       'author_flair_css_class': None,\n",
       "       'author_flair_template_id': None,\n",
       "       'author_flair_text': None,\n",
       "       'author_flair_text_color': 'dark',\n",
       "       'author_fullname': None,\n",
       "       'body': '[removed]',\n",
       "       'can_gild': True,\n",
       "       'can_mod_post': False,\n",
       "       'collapsed': False,\n",
       "       'collapsed_reason': None,\n",
       "       'controversiality': 0,\n",
       "       'created_utc': 1557725530,\n",
       "       'distinguished': None,\n",
       "       'edited': False,\n",
       "       'gilded': 0,\n",
       "       'gildings': {},\n",
       "       'id': 'enapd3d',\n",
       "       'is_submitter': False,\n",
       "       'link_id': 't3_bnzd3x',\n",
       "       'locked': False,\n",
       "       'no_follow': True,\n",
       "       'parent_id': 't1_enapd1j',\n",
       "       'permalink': '/r/tipofmytongue/comments/bnzd3x/tomtkids_show_nick_jr_claymation_show/enapd3d/',\n",
       "       'quarantined': False,\n",
       "       'removal_reason': None,\n",
       "       'retrieved_on': 1562025766,\n",
       "       'score': 1,\n",
       "       'send_replies': False,\n",
       "       'stickied': False,\n",
       "       'subreddit': 'tipofmytongue',\n",
       "       'subreddit_id': 't5_2r4oc',\n",
       "       'subreddit_name_prefixed': 'r/tipofmytongue',\n",
       "       'subreddit_type': 'public',\n",
       "       'total_awards_received': 0,\n",
       "       'comments': []}]}]},\n",
       "  {'all_awardings': [],\n",
       "   'author': 'eka5245',\n",
       "   'author_created_utc': 1355636956,\n",
       "   'author_flair_background_color': '',\n",
       "   'author_flair_css_class': None,\n",
       "   'author_flair_richtext': [],\n",
       "   'author_flair_template_id': None,\n",
       "   'author_flair_text': '1',\n",
       "   'author_flair_text_color': 'dark',\n",
       "   'author_flair_type': 'text',\n",
       "   'author_fullname': 't2_9wns9',\n",
       "   'author_patreon_flair': False,\n",
       "   'body': 'Sounds almost like The Magic Roundabout, but I don’t remember a penguin and it was also aired on CN, not Nick. However, Nick had Pinwheel, which re-aired some stop motion shorts.',\n",
       "   'can_gild': True,\n",
       "   'can_mod_post': False,\n",
       "   'collapsed': False,\n",
       "   'collapsed_reason': None,\n",
       "   'controversiality': 0,\n",
       "   'created_utc': 1557725604,\n",
       "   'distinguished': None,\n",
       "   'edited': False,\n",
       "   'gilded': 0,\n",
       "   'gildings': {},\n",
       "   'id': 'enapgzm',\n",
       "   'is_submitter': False,\n",
       "   'link_id': 't3_bnzd3x',\n",
       "   'locked': False,\n",
       "   'no_follow': True,\n",
       "   'parent_id': 't3_bnzd3x',\n",
       "   'permalink': '/r/tipofmytongue/comments/bnzd3x/tomtkids_show_nick_jr_claymation_show/enapgzm/',\n",
       "   'quarantined': False,\n",
       "   'removal_reason': None,\n",
       "   'retrieved_on': 1562025818,\n",
       "   'score': 2,\n",
       "   'send_replies': True,\n",
       "   'stickied': False,\n",
       "   'subreddit': 'tipofmytongue',\n",
       "   'subreddit_id': 't5_2r4oc',\n",
       "   'subreddit_name_prefixed': 'r/tipofmytongue',\n",
       "   'subreddit_type': 'public',\n",
       "   'total_awards_received': 0,\n",
       "   'comments': []}],\n",
       " 'banned_by': nan,\n",
       " 'selftext_html': None,\n",
       " 'mod_reports': None,\n",
       " 'report_reasons': nan,\n",
       " 'user_reports': None,\n",
       " 'locked': 0.0,\n",
       " 'preview': None,\n",
       " 'post_hint': None,\n",
       " 'all_awardings': [],\n",
       " 'allow_live_comments': nan,\n",
       " 'author_created_utc': 1501634594.0,\n",
       " 'author_flair_background_color': None,\n",
       " 'author_flair_richtext': [],\n",
       " 'author_flair_template_id': nan,\n",
       " 'author_flair_text_color': None,\n",
       " 'author_flair_type': 'text',\n",
       " 'author_fullname': 't2_93bvfuc',\n",
       " 'author_patreon_flair': 0.0,\n",
       " 'author_premium': nan,\n",
       " 'can_gild': 1.0,\n",
       " 'category': 'KID’S SHOW',\n",
       " 'content_categories': nan,\n",
       " 'contest_mode': 0.0,\n",
       " 'discussion_type': nan,\n",
       " 'gildings': {},\n",
       " 'hidden': 0.0,\n",
       " 'is_created_from_ads_ui': nan,\n",
       " 'is_crosspostable': 1.0,\n",
       " 'is_meta': 0.0,\n",
       " 'is_original_content': 0.0,\n",
       " 'is_reddit_media_domain': 0.0,\n",
       " 'is_robot_indexable': 1.0,\n",
       " 'is_video': 0.0,\n",
       " 'link_flair_background_color': '#90ee90',\n",
       " 'link_flair_richtext': [],\n",
       " 'link_flair_template_id': 'c57687dc-bcba-11e1-9ec7-12313b0ce1e2',\n",
       " 'link_flair_text_color': 'dark',\n",
       " 'link_flair_type': 'text',\n",
       " 'media_only': 0.0,\n",
       " 'no_follow': 1.0,\n",
       " 'num_crossposts': 0.0,\n",
       " 'parent_whitelist_status': 'all_ads',\n",
       " 'pinned': 0.0,\n",
       " 'pwls': 6.0,\n",
       " 'removed_by_category': None,\n",
       " 'retrieved_utc': nan,\n",
       " 'send_replies': 1.0,\n",
       " 'spoiler': 0.0,\n",
       " 'subreddit_subscribers': 771240.0,\n",
       " 'subreddit_type': 'public',\n",
       " 'suggested_sort': None,\n",
       " 'thumbnail_height': nan,\n",
       " 'thumbnail_width': nan,\n",
       " 'top_awarded_type': nan,\n",
       " 'total_awards_received': 0.0,\n",
       " 'treatment_tags': None,\n",
       " 'upvote_ratio': nan,\n",
       " 'whitelist_status': 'all_ads',\n",
       " 'wls': 6.0,\n",
       " 'crosspost_parent': None,\n",
       " 'crosspost_parent_list': None,\n",
       " 'url_overridden_by_dest': None,\n",
       " 'can_mod_post': 0.0,\n",
       " 'removal_reason': nan,\n",
       " 'subreddit_name_prefixed': 'r/tipofmytongue',\n",
       " 'author_cakeday': nan,\n",
       " 'awarders': None,\n",
       " 'removed_by': nan,\n",
       " 'view_count': nan,\n",
       " 'call_to_action': None,\n",
       " 'num_reports': nan,\n",
       " 'likes': nan,\n",
       " 'clicked': nan,\n",
       " 'approved_by': nan,\n",
       " 'brand_safe': nan,\n",
       " 'mod_note': nan,\n",
       " 'mod_reason_by': nan,\n",
       " 'mod_reason_title': nan,\n",
       " 'approved_at_utc': nan,\n",
       " 'banned_at_utc': nan,\n",
       " 'rte_mode': None,\n",
       " 'post_categories': nan,\n",
       " 'visited': nan,\n",
       " 'previous_visits': None}"
      ]
     },
     "execution_count": 24,
     "metadata": {},
     "output_type": "execute_result"
    }
   ],
   "source": [
    "df.iloc[0].to_dict()"
   ]
  },
  {
   "cell_type": "code",
   "execution_count": 20,
   "metadata": {},
   "outputs": [],
   "source": [
    "def extract_category(tomt):\n",
    "    \n",
    "    return tomt.to_dict()['title'].split('[')[-1].split(']')[0]"
   ]
  },
  {
   "cell_type": "code",
   "execution_count": 26,
   "metadata": {},
   "outputs": [
    {
     "data": {
      "text/plain": [
       "category\n",
       "TOMT     25066\n",
       "SONG      4770\n",
       "MOVIE     4303\n",
       "Song      3590\n",
       "Movie     2865\n",
       "2000s     2665\n",
       "song      1749\n",
       "2010s     1693\n",
       "Video     1619\n",
       "video     1422\n",
       "VIDEO     1373\n",
       "BOOK      1246\n",
       "MUSIC     1243\n",
       "Music     1145\n",
       "Book      1086\n",
       "movie     1077\n",
       "GAME       897\n",
       "tomt       714\n",
       "Game       662\n",
       "1990s      515\n",
       "Name: count, dtype: int64"
      ]
     },
     "execution_count": 26,
     "metadata": {},
     "output_type": "execute_result"
    }
   ],
   "source": [
    "df['category'].value_counts().head(20)"
   ]
  },
  {
   "cell_type": "code",
   "execution_count": 30,
   "metadata": {},
   "outputs": [
    {
     "data": {
      "text/plain": [
       "category\n",
       "Website                                                                                                                    402\n",
       "website                                                                                                                    371\n",
       "Game/website                                                                                                                 2\n",
       "Website?                                                                                                                     2\n",
       "website/game                                                                                                                 2\n",
       "                                                                                                                          ... \n",
       "Model/Website                                                                                                                1\n",
       "Late 90s website GAME                                                                                                        1\n",
       "Website from a few years ago that eventually spawned the first cell phone gallery site I ever saw                            1\n",
       "Website 2006-2009                                                                                                            1\n",
       "Website that allows you to enter the names of other websites and see what that site looked like throughout its history.      1\n",
       "Name: count, Length: 128, dtype: int64"
      ]
     },
     "execution_count": 30,
     "metadata": {},
     "output_type": "execute_result"
    }
   ],
   "source": [
    "df[df['category'].str.contains('site')].category.value_counts()"
   ]
  },
  {
   "cell_type": "code",
   "execution_count": 31,
   "metadata": {},
   "outputs": [
    {
     "data": {
      "text/plain": [
       "category\n",
       "Webpage                                                                                                                                                                            3\n",
       "web page                                                                                                                                                                           2\n",
       "webpage                                                                                                                                                                            2\n",
       "2000 era website that paid users for page views?                                                                                                                                   1\n",
       "Front page comic submission of two friends reminiscing, having a good time, and it cuts back to the friend and he's not there and the last frame is at the grave of his friend.    1\n",
       "That app on chrome that lets you manage clickbait to one page                                                                                                                      1\n",
       "TOMT: Picture that was on the Reddit Front page  involves Rollercoaster tycoon                                                                                                     1\n",
       "Reddit comment comic; a 3 page comic with an annoying guy. His friends leave him, calls him an ashole, and then he say's ~'haha, owned you guys'                                   1\n",
       "http://www.youtube.com/watch?feature=player_detailpage&amp;v=90Omh7_I8vI#t=0s                                                                                                      1\n",
       "Reddit front-page post                                                                                                                                                             1\n",
       "~2 pages                                                                                                                                                                           1\n",
       "Homepage/animation                                                                                                                                                                 1\n",
       "TOMT Was on the front page yesterday, couples advice not attacking character?                                                                                                      1\n",
       "Search for an extremely detailed tattoo that made the front page recently                                                                                                          1\n",
       "Children's book that was recently on the front page                                                                                                                                1\n",
       "What's that web page that turns URL's in to pictures?                                                                                                                              1\n",
       "story/webpage                                                                                                                                                                      1\n",
       "Reddit Frontpage Post                                                                                                                                                              1\n",
       "Video on the front page a few months ago                                                                                                                                           1\n",
       "Instagram page                                                                                                                                                                     1\n",
       "Reddit page                                                                                                                                                                        1\n",
       "Recently on the frontpage                                                                                                                                                          1\n",
       "Webpage/App                                                                                                                                                                        1\n",
       "Horror story/webpage                                                                                                                                                               1\n",
       "wiki page                                                                                                                                                                          1\n",
       "Name: count, dtype: int64"
      ]
     },
     "execution_count": 31,
     "metadata": {},
     "output_type": "execute_result"
    }
   ],
   "source": [
    "df[df['category'].str.contains('page')].category.value_counts()"
   ]
  },
  {
   "cell_type": "code",
   "execution_count": 38,
   "metadata": {},
   "outputs": [
    {
     "data": {
      "text/plain": [
       "<AxesSubplot:>"
      ]
     },
     "execution_count": 38,
     "metadata": {},
     "output_type": "execute_result"
    },
    {
     "data": {
      "image/png": "[encoded data removed]",
      "text/plain": [
       "<Figure size 504x432 with 1 Axes>"
      ]
     },
     "metadata": {},
     "output_type": "display_data"
    }
   ],
   "source": [
    "sns.set_theme(style=\"ticks\")\n",
    "\n",
    "# Initialize the figure with a logarithmic x axis\n",
    "f, ax = plt.subplots(figsize=(7, 6))\n",
    "ax.set_yscale(\"log\")\n",
    "sns.boxplot(df.ups)\n",
    "# observation: zero or ten or more upvotes are outlayers, hence we take questions with 1-9 upvotes"
   ]
  },
  {
   "cell_type": "code",
   "execution_count": 41,
   "metadata": {},
   "outputs": [
    {
     "data": {
      "text/plain": [
       "<AxesSubplot:>"
      ]
     },
     "execution_count": 41,
     "metadata": {},
     "output_type": "execute_result"
    },
    {
     "data": {
      "image/png": "[encoded data removed]",
      "text/plain": [
       "<Figure size 504x432 with 1 Axes>"
      ]
     },
     "metadata": {},
     "output_type": "display_data"
    }
   ],
   "source": [
    "# Initialize the figure with a logarithmic x axis\n",
    "f, ax = plt.subplots(figsize=(7, 6))\n",
    "ax.set_yscale(\"log\")\n",
    "sns.boxplot(df.downs)\n",
    "# observation:questions with one downvote are already outlayers, hence we only take questions with zero downvotes"
   ]
  },
  {
   "cell_type": "code",
   "execution_count": 42,
   "metadata": {},
   "outputs": [
    {
     "data": {
      "text/plain": [
       "<AxesSubplot:>"
      ]
     },
     "execution_count": 42,
     "metadata": {},
     "output_type": "execute_result"
    },
    {
     "data": {
      "image/png": "[encoded data removed]",
      "text/plain": [
       "<Figure size 504x432 with 1 Axes>"
      ]
     },
     "metadata": {},
     "output_type": "display_data"
    }
   ],
   "source": [
    "# Initialize the figure with a logarithmic x axis\n",
    "f, ax = plt.subplots(figsize=(7, 6))\n",
    "ax.set_yscale(\"log\")\n",
    "sns.boxplot(df.num_comments)\n",
    "# observation:questions with zero or 13 comments are already outlayers, hence we only take questions with zero downvotes"
   ]
  },
  {
   "cell_type": "code",
   "execution_count": 43,
   "metadata": {},
   "outputs": [
    {
     "data": {
      "text/plain": [
       "count    100000.000000\n",
       "mean          5.338720\n",
       "std           8.477454\n",
       "min          -1.000000\n",
       "25%           2.000000\n",
       "50%           4.000000\n",
       "75%           7.000000\n",
       "max        1170.000000\n",
       "Name: num_comments, dtype: float64"
      ]
     },
     "execution_count": 43,
     "metadata": {},
     "output_type": "execute_result"
    }
   ],
   "source": [
    "df.num_comments.describe()"
   ]
  },
  {
   "cell_type": "code",
   "execution_count": 44,
   "metadata": {},
   "outputs": [
    {
     "data": {
      "text/plain": [
       "13.0"
      ]
     },
     "execution_count": 44,
     "metadata": {},
     "output_type": "execute_result"
    }
   ],
   "source": [
    "df.num_comments.quantile(q=0.95)"
   ]
  }
 ],
 "metadata": {
  "kernelspec": {
   "display_name": "Python 3 (ipykernel)",
   "language": "python",
   "name": "python3"
  },
  "language_info": {
   "codemirror_mode": {
    "name": "ipython",
    "version": 3
   },
   "file_extension": ".py",
   "mimetype": "text/x-python",
   "name": "python",
   "nbconvert_exporter": "python",
   "pygments_lexer": "ipython3",
   "version": "3.10.6"
  }
 },
 "nbformat": 4,
 "nbformat_minor": 2
}

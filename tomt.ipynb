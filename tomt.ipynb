{
 "cells": [
  {
   "cell_type": "code",
   "execution_count": 2,
   "metadata": {},
   "outputs": [],
   "source": [
    "import json\n",
    "import pandas as pd\n",
    "from tqdm import tqdm\n",
    "import seaborn as sns\n",
    "import matplotlib.pyplot as plt\n",
    "import gzip\n",
    "import datetime\n",
    "import os\n",
    "import subprocess\n",
    "\n",
    "from os.path import exists\n",
    "\n",
    "import random\n",
    "from resiliparse.parse.html import HTMLTree\n",
    "from resiliparse.parse.encoding import detect_encoding\n",
    "from resiliparse.extract.html2text import extract_plain_text\n",
    "from get_training_query_term_recall import calculate_doc_term_recall\n",
    "from passage_extraction_util import passage_calculate_doc_term_recall"
   ]
  },
  {
   "cell_type": "code",
   "execution_count": 3,
   "metadata": {},
   "outputs": [
    {
     "name": "stderr",
     "output_type": "stream",
     "text": [
      "1279425it [04:13, 5045.19it/s]\n"
     ]
    }
   ],
   "source": [
    "c = 0\n",
    "\n",
    "with open('./reddit-tomt-submissions.jsonl') as f, gzip.open('./reddit-tomt-submissions-with-links.jsonl.gz', 'wt') as output_file:\n",
    "    for l in tqdm(f):\n",
    "        l = json.loads(l)\n",
    "        if 'links_on_answer_path' in l and len(l['links_on_answer_path']) > 0:\n",
    "            output_file.write(json.dumps(l) + '\\n')\n"
   ]
  },
  {
   "cell_type": "code",
   "execution_count": 3,
   "metadata": {},
   "outputs": [
    {
     "name": "stderr",
     "output_type": "stream",
     "text": [
      "326458it [01:50, 2944.07it/s]\n"
     ]
    }
   ],
   "source": [
    "with gzip.open('./reddit-tomt-submissions-with-links.jsonl.gz') as f:\n",
    "    entries = []\n",
    "    for l in tqdm(f):\n",
    "        l = json.loads(l)\n",
    "        del l['comments']\n",
    "        entries.append(l)\n"
   ]
  },
  {
   "cell_type": "code",
   "execution_count": 4,
   "metadata": {},
   "outputs": [],
   "source": [
    "def clean_urls(urls):\n",
    "    ret = []\n",
    "    for url in urls:\n",
    "        url = url.split(')')[0]\n",
    "        url = url.split('(')[-1]\n",
    "        ret.append(url)        \n",
    "    return ret\n",
    "        \n",
    "assert ['https://www.reddit.com/r/woahdude/comments/66wqhv/true_cyan_color_illusion/'] == clean_urls(['https://www.reddit.com/r/woahdude/comments/66wqhv/true_cyan_color_illusion/'])\n",
    "assert ['https://www.reddit.com/r/woahdude/comments/66wqhv/true_cyan_color_illusion/'] == clean_urls(['https://www.reddit.com/r/woahdude/comments/66wqhv/true_cyan_color_illusion/)'])\n",
    "assert ['https://www.reddit.com/r/woahdude/comments/66wqhv/true_cyan_color_illusion/'] == clean_urls(['[text](https://www.reddit.com/r/woahdude/comments/66wqhv/true_cyan_color_illusion/)nochmehrtext'])"
   ]
  },
  {
   "cell_type": "code",
   "execution_count": 5,
   "metadata": {},
   "outputs": [],
   "source": [
    "def get_htmls(entry):\n",
    "    links = clean_urls(entry['links_on_answer_path'])\n",
    "    \n",
    "    ret = dict()\n",
    "    for link in links:\n",
    "        html_file = f\"websites/{link.split('://')[-1]}\"\n",
    "        if exists(html_file):\n",
    "            for suffix in ['','/index.html']:\n",
    "                if os.path.isfile(html_file + suffix):\n",
    "                    ret[link] = html_file + suffix\n",
    "                    break\n",
    "            if link not in ret:\n",
    "                raise ValueError('todo')\n",
    "        \n",
    "    return ret\n",
    "\n",
    "assert get_htmls({'links_on_answer_path': ['http://www.louissachar.com/Wayside.htm']}) == {'http://www.louissachar.com/Wayside.htm': 'websites/www.louissachar.com/Wayside.htm'}\n",
    "assert get_htmls({'links_on_answer_path': ['http://www.youtube.com/watch?v=NU75uz0b8EU']}) == {'http://www.youtube.com/watch?v=NU75uz0b8EU': 'websites/www.youtube.com/watch?v=NU75uz0b8EU/index.html'}\n",
    "assert False, 'ToDo: I remember that I saw that the parsing above does not work for xy.'"
   ]
  },
  {
   "cell_type": "code",
   "execution_count": 6,
   "metadata": {},
   "outputs": [],
   "source": [
    "def download_page(reddit_entry):\n",
    "    if get_htmls(reddit_entry):\n",
    "        return\n",
    "    \n",
    "    current_directory = os.getcwd()\n",
    "    links = clean_urls(reddit_entry['links_on_answer_path'])\n",
    "    timestamp = int(reddit_entry['solved_utc'])\n",
    "    time = datetime.datetime.utcfromtimestamp(timestamp)\n",
    "    time_start = (time - datetime.timedelta(days=365)).strftime(\"%Y%m%d%H%M%S\")\n",
    "    time_end = (time + datetime.timedelta(days=365)).strftime(\"%Y%m%d%H%M%S\")\n",
    "    for link in links:\n",
    "        command = [\n",
    "        \"docker\",\n",
    "        \"run\",\n",
    "        \"-v\",\n",
    "        f\"{current_directory}/websites:/websites\",\n",
    "        \"hartator/wayback-machine-downloader\",\n",
    "        \"--exact-url\",\n",
    "        \"--from\",\n",
    "        time_start,\n",
    "        \"--to\",\n",
    "        time_end,\n",
    "        \"--maximum-snapshot\",\n",
    "        \"2\",\n",
    "        link\n",
    "        ]\n",
    "        subprocess.run(command, check=True)\n"
   ]
  },
  {
   "cell_type": "code",
   "execution_count": 7,
   "metadata": {},
   "outputs": [],
   "source": [
    "def extract_text(html_file, return_type):\n",
    "    tree = HTMLTree.parse_from_bytes(open(html_file, 'rb').read(), detect_encoding(open(html_file, 'rb').read()))\n",
    "    if return_type == 'title':\n",
    "        return tree.head.text\n",
    "    elif return_type == 'main':\n",
    "        return tree.head.text + ' ' + extract_plain_text(tree, main_content=True)\n",
    "    return tree.body.text\n",
    "\n",
    "assert extract_text('websites/www.louissachar.com/Wayside.htm', 'title') == '\\nLouis Sachar —  Wayside School Book Series\\n\\n'\n",
    "assert extract_text('websites/www.louissachar.com/Wayside.htm', 'main').startswith(\"\\nLouis Sachar —  Wayside School Book Series\\n\\n \\n\\nTo purchase any of Louis's books visit your local bookseller or make your selection online:\\n\\nSideways Stories from\\nWayside School\\n\\n\\xa0\\n\\nWayside School\\nis Falling Down\\n\\n\\xa0\\n\\nWayside School\\n\")"
   ]
  },
  {
   "cell_type": "code",
   "execution_count": 8,
   "metadata": {},
   "outputs": [],
   "source": [
    "def extract_question(entry):\n",
    "    return entry['title'].split(']')[-1] + '. ' + entry['content']"
   ]
  },
  {
   "cell_type": "code",
   "execution_count": 9,
   "metadata": {},
   "outputs": [],
   "source": [
    "class text_normalization():\n",
    "    def stem():\n",
    "        return True\n",
    "\n",
    "    def stop():\n",
    "        return True\n",
    "\n",
    "def construct_instance_for_model_training(entry, text_type):\n",
    "    target_texts = []\n",
    "    question = extract_question(entry)\n",
    "    for link in get_htmls(entry).values():\n",
    "        target_texts.append(extract_text(link, text_type))\n",
    "    input_data = [json.dumps({\"queries\": target_texts, \"doc\":{\"title\": question}})]\n",
    "    return list(calculate_doc_term_recall(input_data, text_normalization()))"
   ]
  },
  {
   "cell_type": "code",
   "execution_count": null,
   "metadata": {},
   "outputs": [
    {
     "name": "stderr",
     "output_type": "stream",
     "text": [
      "  0%|▎                                                                                                   | 1201/326458 [03:57<23:08:24,  3.90it/s]"
     ]
    }
   ],
   "source": [
    "from copy import deepcopy\n",
    "\n",
    "training_method = 'title'\n",
    "with open('training-data-title-06-07-2023.jsonl', 'w') as f:\n",
    "    for entry in tqdm(entries):\n",
    "        entry = deepcopy(entry)\n",
    "        training_samples = []\n",
    "        try:\n",
    "            for i in construct_instance_for_model_training(entry, training_method):\n",
    "                if i['term_recall']:\n",
    "                    training_samples += [i]\n",
    "        except:\n",
    "            pass\n",
    "    \n",
    "        entry['training_samples'] = {'method': training_method, 'instances': training_samples}\n",
    "    \n",
    "        if training_samples:\n",
    "            f.write(json.dumps(entry) + '\\n')\n"
   ]
  },
  {
   "cell_type": "code",
   "execution_count": 79,
   "metadata": {},
   "outputs": [
    {
     "data": {
      "text/plain": [
       "[{'doc': {'id': 1,\n",
       "   'position': 1,\n",
       "   'title': \" A woman birthing monsters/aliens. I was re-watching Prometheus and during the c-section scene in the giant med-machine I had a little flashback to a movie or series (not sure) I saw as a child of a human woman giving birth to either monsters, mutants or aliens. It's not much to go on but the only thing i remember are a long medical table,  an orange light being cast on the table and a woman popping out what at the time I believed were aliens? It must have been an 80's early 90' production. \\nThanks in advance :)\\n\\nEdit:  Everything had a dark atmosphere, like it was happening at night or in a dark room.\"},\n",
       "  'term_recall': {'birth': 1.0,\n",
       "   'birthing': 1.0,\n",
       "   'c': 1.0,\n",
       "   'scene': 1.0,\n",
       "   'time': 1.0}}]"
      ]
     },
     "execution_count": 79,
     "metadata": {},
     "output_type": "execute_result"
    }
   ],
   "source": [
    "construct_instance_for_model_training(entries[5], 'title')"
   ]
  },
  {
   "cell_type": "code",
   "execution_count": 60,
   "metadata": {},
   "outputs": [
    {
     "name": "stderr",
     "output_type": "stream",
     "text": [
      "  0%|          | 43/326458 [00:41<87:13:32,  1.04it/s] \n"
     ]
    },
    {
     "ename": "KeyboardInterrupt",
     "evalue": "",
     "output_type": "error",
     "traceback": [
      "\u001b[0;31m---------------------------------------------------------------------------\u001b[0m",
      "\u001b[0;31mKeyboardInterrupt\u001b[0m                         Traceback (most recent call last)",
      "\u001b[0;32m<ipython-input-60-3e01825f48fb>\u001b[0m in \u001b[0;36m<module>\u001b[0;34m()\u001b[0m\n\u001b[1;32m      1\u001b[0m \u001b[0;32mfor\u001b[0m \u001b[0mentry\u001b[0m \u001b[0;32min\u001b[0m \u001b[0mtqdm\u001b[0m\u001b[0;34m(\u001b[0m\u001b[0mentries\u001b[0m\u001b[0;34m)\u001b[0m\u001b[0;34m:\u001b[0m\u001b[0;34m\u001b[0m\u001b[0;34m\u001b[0m\u001b[0m\n\u001b[0;32m----> 2\u001b[0;31m     \u001b[0mdownload_page\u001b[0m\u001b[0;34m(\u001b[0m\u001b[0mentry\u001b[0m\u001b[0;34m)\u001b[0m\u001b[0;34m\u001b[0m\u001b[0;34m\u001b[0m\u001b[0m\n\u001b[0m",
      "\u001b[0;32m<ipython-input-59-da9723d64c95>\u001b[0m in \u001b[0;36mdownload_page\u001b[0;34m(reddit_entry)\u001b[0m\n\u001b[1;32m     25\u001b[0m         \u001b[0mlink\u001b[0m\u001b[0;34m\u001b[0m\u001b[0;34m\u001b[0m\u001b[0m\n\u001b[1;32m     26\u001b[0m         ]\n\u001b[0;32m---> 27\u001b[0;31m         \u001b[0msubprocess\u001b[0m\u001b[0;34m.\u001b[0m\u001b[0mrun\u001b[0m\u001b[0;34m(\u001b[0m\u001b[0mcommand\u001b[0m\u001b[0;34m,\u001b[0m \u001b[0mcheck\u001b[0m\u001b[0;34m=\u001b[0m\u001b[0;32mTrue\u001b[0m\u001b[0;34m)\u001b[0m\u001b[0;34m\u001b[0m\u001b[0;34m\u001b[0m\u001b[0m\n\u001b[0m",
      "\u001b[0;32m/usr/lib/python3.6/subprocess.py\u001b[0m in \u001b[0;36mrun\u001b[0;34m(input, timeout, check, *popenargs, **kwargs)\u001b[0m\n\u001b[1;32m    423\u001b[0m     \u001b[0;32mwith\u001b[0m \u001b[0mPopen\u001b[0m\u001b[0;34m(\u001b[0m\u001b[0;34m*\u001b[0m\u001b[0mpopenargs\u001b[0m\u001b[0;34m,\u001b[0m \u001b[0;34m**\u001b[0m\u001b[0mkwargs\u001b[0m\u001b[0;34m)\u001b[0m \u001b[0;32mas\u001b[0m \u001b[0mprocess\u001b[0m\u001b[0;34m:\u001b[0m\u001b[0;34m\u001b[0m\u001b[0;34m\u001b[0m\u001b[0m\n\u001b[1;32m    424\u001b[0m         \u001b[0;32mtry\u001b[0m\u001b[0;34m:\u001b[0m\u001b[0;34m\u001b[0m\u001b[0;34m\u001b[0m\u001b[0m\n\u001b[0;32m--> 425\u001b[0;31m             \u001b[0mstdout\u001b[0m\u001b[0;34m,\u001b[0m \u001b[0mstderr\u001b[0m \u001b[0;34m=\u001b[0m \u001b[0mprocess\u001b[0m\u001b[0;34m.\u001b[0m\u001b[0mcommunicate\u001b[0m\u001b[0;34m(\u001b[0m\u001b[0minput\u001b[0m\u001b[0;34m,\u001b[0m \u001b[0mtimeout\u001b[0m\u001b[0;34m=\u001b[0m\u001b[0mtimeout\u001b[0m\u001b[0;34m)\u001b[0m\u001b[0;34m\u001b[0m\u001b[0;34m\u001b[0m\u001b[0m\n\u001b[0m\u001b[1;32m    426\u001b[0m         \u001b[0;32mexcept\u001b[0m \u001b[0mTimeoutExpired\u001b[0m\u001b[0;34m:\u001b[0m\u001b[0;34m\u001b[0m\u001b[0;34m\u001b[0m\u001b[0m\n\u001b[1;32m    427\u001b[0m             \u001b[0mprocess\u001b[0m\u001b[0;34m.\u001b[0m\u001b[0mkill\u001b[0m\u001b[0;34m(\u001b[0m\u001b[0;34m)\u001b[0m\u001b[0;34m\u001b[0m\u001b[0;34m\u001b[0m\u001b[0m\n",
      "\u001b[0;32m/usr/lib/python3.6/subprocess.py\u001b[0m in \u001b[0;36mcommunicate\u001b[0;34m(self, input, timeout)\u001b[0m\n\u001b[1;32m    853\u001b[0m                 \u001b[0mstderr\u001b[0m \u001b[0;34m=\u001b[0m \u001b[0mself\u001b[0m\u001b[0;34m.\u001b[0m\u001b[0mstderr\u001b[0m\u001b[0;34m.\u001b[0m\u001b[0mread\u001b[0m\u001b[0;34m(\u001b[0m\u001b[0;34m)\u001b[0m\u001b[0;34m\u001b[0m\u001b[0;34m\u001b[0m\u001b[0m\n\u001b[1;32m    854\u001b[0m                 \u001b[0mself\u001b[0m\u001b[0;34m.\u001b[0m\u001b[0mstderr\u001b[0m\u001b[0;34m.\u001b[0m\u001b[0mclose\u001b[0m\u001b[0;34m(\u001b[0m\u001b[0;34m)\u001b[0m\u001b[0;34m\u001b[0m\u001b[0;34m\u001b[0m\u001b[0m\n\u001b[0;32m--> 855\u001b[0;31m             \u001b[0mself\u001b[0m\u001b[0;34m.\u001b[0m\u001b[0mwait\u001b[0m\u001b[0;34m(\u001b[0m\u001b[0;34m)\u001b[0m\u001b[0;34m\u001b[0m\u001b[0;34m\u001b[0m\u001b[0m\n\u001b[0m\u001b[1;32m    856\u001b[0m         \u001b[0;32melse\u001b[0m\u001b[0;34m:\u001b[0m\u001b[0;34m\u001b[0m\u001b[0;34m\u001b[0m\u001b[0m\n\u001b[1;32m    857\u001b[0m             \u001b[0;32mif\u001b[0m \u001b[0mtimeout\u001b[0m \u001b[0;32mis\u001b[0m \u001b[0;32mnot\u001b[0m \u001b[0;32mNone\u001b[0m\u001b[0;34m:\u001b[0m\u001b[0;34m\u001b[0m\u001b[0;34m\u001b[0m\u001b[0m\n",
      "\u001b[0;32m/usr/lib/python3.6/subprocess.py\u001b[0m in \u001b[0;36mwait\u001b[0;34m(self, timeout, endtime)\u001b[0m\n\u001b[1;32m   1475\u001b[0m                         \u001b[0;32mif\u001b[0m \u001b[0mself\u001b[0m\u001b[0;34m.\u001b[0m\u001b[0mreturncode\u001b[0m \u001b[0;32mis\u001b[0m \u001b[0;32mnot\u001b[0m \u001b[0;32mNone\u001b[0m\u001b[0;34m:\u001b[0m\u001b[0;34m\u001b[0m\u001b[0;34m\u001b[0m\u001b[0m\n\u001b[1;32m   1476\u001b[0m                             \u001b[0;32mbreak\u001b[0m  \u001b[0;31m# Another thread waited.\u001b[0m\u001b[0;34m\u001b[0m\u001b[0;34m\u001b[0m\u001b[0m\n\u001b[0;32m-> 1477\u001b[0;31m                         \u001b[0;34m(\u001b[0m\u001b[0mpid\u001b[0m\u001b[0;34m,\u001b[0m \u001b[0msts\u001b[0m\u001b[0;34m)\u001b[0m \u001b[0;34m=\u001b[0m \u001b[0mself\u001b[0m\u001b[0;34m.\u001b[0m\u001b[0m_try_wait\u001b[0m\u001b[0;34m(\u001b[0m\u001b[0;36m0\u001b[0m\u001b[0;34m)\u001b[0m\u001b[0;34m\u001b[0m\u001b[0;34m\u001b[0m\u001b[0m\n\u001b[0m\u001b[1;32m   1478\u001b[0m                         \u001b[0;31m# Check the pid and loop as waitpid has been known to\u001b[0m\u001b[0;34m\u001b[0m\u001b[0;34m\u001b[0m\u001b[0;34m\u001b[0m\u001b[0m\n\u001b[1;32m   1479\u001b[0m                         \u001b[0;31m# return 0 even without WNOHANG in odd situations.\u001b[0m\u001b[0;34m\u001b[0m\u001b[0;34m\u001b[0m\u001b[0;34m\u001b[0m\u001b[0m\n",
      "\u001b[0;32m/usr/lib/python3.6/subprocess.py\u001b[0m in \u001b[0;36m_try_wait\u001b[0;34m(self, wait_flags)\u001b[0m\n\u001b[1;32m   1422\u001b[0m             \u001b[0;34m\"\"\"All callers to this function MUST hold self._waitpid_lock.\"\"\"\u001b[0m\u001b[0;34m\u001b[0m\u001b[0;34m\u001b[0m\u001b[0m\n\u001b[1;32m   1423\u001b[0m             \u001b[0;32mtry\u001b[0m\u001b[0;34m:\u001b[0m\u001b[0;34m\u001b[0m\u001b[0;34m\u001b[0m\u001b[0m\n\u001b[0;32m-> 1424\u001b[0;31m                 \u001b[0;34m(\u001b[0m\u001b[0mpid\u001b[0m\u001b[0;34m,\u001b[0m \u001b[0msts\u001b[0m\u001b[0;34m)\u001b[0m \u001b[0;34m=\u001b[0m \u001b[0mos\u001b[0m\u001b[0;34m.\u001b[0m\u001b[0mwaitpid\u001b[0m\u001b[0;34m(\u001b[0m\u001b[0mself\u001b[0m\u001b[0;34m.\u001b[0m\u001b[0mpid\u001b[0m\u001b[0;34m,\u001b[0m \u001b[0mwait_flags\u001b[0m\u001b[0;34m)\u001b[0m\u001b[0;34m\u001b[0m\u001b[0;34m\u001b[0m\u001b[0m\n\u001b[0m\u001b[1;32m   1425\u001b[0m             \u001b[0;32mexcept\u001b[0m \u001b[0mChildProcessError\u001b[0m\u001b[0;34m:\u001b[0m\u001b[0;34m\u001b[0m\u001b[0;34m\u001b[0m\u001b[0m\n\u001b[1;32m   1426\u001b[0m                 \u001b[0;31m# This happens if SIGCLD is set to be ignored or waiting\u001b[0m\u001b[0;34m\u001b[0m\u001b[0;34m\u001b[0m\u001b[0;34m\u001b[0m\u001b[0m\n",
      "\u001b[0;31mKeyboardInterrupt\u001b[0m: "
     ]
    }
   ],
   "source": [
    "for entry in tqdm(entries):\n",
    "    download_page(entry)"
   ]
  },
  {
   "cell_type": "code",
   "execution_count": 5,
   "metadata": {},
   "outputs": [
    {
     "name": "stdout",
     "output_type": "stream",
     "text": [
      "shuf: write error: Broken pipe\n",
      "shuf: write error\n"
     ]
    }
   ],
   "source": [
    "!cat ./reddit-tomt-submissions.jsonl | shuf | head -100000 > json-tomt-sample.jsonl"
   ]
  },
  {
   "cell_type": "code",
   "execution_count": 6,
   "metadata": {},
   "outputs": [
    {
     "name": "stdout",
     "output_type": "stream",
     "text": [
      "100000\n"
     ]
    }
   ],
   "source": [
    "!cat json-tomt-sample.jsonl | wc -l"
   ]
  },
  {
   "cell_type": "code",
   "execution_count": 7,
   "metadata": {},
   "outputs": [],
   "source": [
    "df = pd.read_json(\"./json-tomt-sample.jsonl\", lines=True)"
   ]
  },
  {
   "cell_type": "code",
   "execution_count": 10,
   "metadata": {},
   "outputs": [],
   "source": [
    "df['category'] = df.apply(lambda i: extract_category(i), axis=1)"
   ]
  },
  {
   "cell_type": "code",
   "execution_count": 11,
   "metadata": {},
   "outputs": [
    {
     "data": {
      "text/html": [
       "<div>\n",
       "<style scoped>\n",
       "    .dataframe tbody tr th:only-of-type {\n",
       "        vertical-align: middle;\n",
       "    }\n",
       "\n",
       "    .dataframe tbody tr th {\n",
       "        vertical-align: top;\n",
       "    }\n",
       "\n",
       "    .dataframe thead th {\n",
       "        text-align: right;\n",
       "    }\n",
       "</style>\n",
       "<table border=\"1\" class=\"dataframe\">\n",
       "  <thead>\n",
       "    <tr style=\"text-align: right;\">\n",
       "      <th></th>\n",
       "      <th>hide_score</th>\n",
       "      <th>domain</th>\n",
       "      <th>author_flair_text</th>\n",
       "      <th>created_utc</th>\n",
       "      <th>solved_utc</th>\n",
       "      <th>subreddit</th>\n",
       "      <th>media_embed</th>\n",
       "      <th>secure_media_embed</th>\n",
       "      <th>chosen_answer</th>\n",
       "      <th>links_on_answer_path</th>\n",
       "      <th>...</th>\n",
       "      <th>brand_safe</th>\n",
       "      <th>mod_note</th>\n",
       "      <th>mod_reason_by</th>\n",
       "      <th>mod_reason_title</th>\n",
       "      <th>approved_at_utc</th>\n",
       "      <th>banned_at_utc</th>\n",
       "      <th>rte_mode</th>\n",
       "      <th>post_categories</th>\n",
       "      <th>visited</th>\n",
       "      <th>previous_visits</th>\n",
       "    </tr>\n",
       "  </thead>\n",
       "  <tbody>\n",
       "    <tr>\n",
       "      <th>0</th>\n",
       "      <td>NaN</td>\n",
       "      <td>self.tipofmytongue</td>\n",
       "      <td>None</td>\n",
       "      <td>1557725027</td>\n",
       "      <td>1557725407</td>\n",
       "      <td>tipofmytongue</td>\n",
       "      <td>{}</td>\n",
       "      <td>{}</td>\n",
       "      <td>bit of a long shot but  [Pocoyo](https://tvtro...</td>\n",
       "      <td>[https://tvtropes.org/pmwiki/pmwiki.php/Wester...</td>\n",
       "      <td>...</td>\n",
       "      <td>NaN</td>\n",
       "      <td>NaN</td>\n",
       "      <td>NaN</td>\n",
       "      <td>NaN</td>\n",
       "      <td>NaN</td>\n",
       "      <td>NaN</td>\n",
       "      <td>None</td>\n",
       "      <td>NaN</td>\n",
       "      <td>NaN</td>\n",
       "      <td>None</td>\n",
       "    </tr>\n",
       "    <tr>\n",
       "      <th>1</th>\n",
       "      <td>0.0</td>\n",
       "      <td>self.tipofmytongue</td>\n",
       "      <td>None</td>\n",
       "      <td>1454487496</td>\n",
       "      <td></td>\n",
       "      <td>tipofmytongue</td>\n",
       "      <td>{}</td>\n",
       "      <td>{}</td>\n",
       "      <td></td>\n",
       "      <td>[]</td>\n",
       "      <td>...</td>\n",
       "      <td>NaN</td>\n",
       "      <td>NaN</td>\n",
       "      <td>NaN</td>\n",
       "      <td>NaN</td>\n",
       "      <td>NaN</td>\n",
       "      <td>NaN</td>\n",
       "      <td>None</td>\n",
       "      <td>NaN</td>\n",
       "      <td>NaN</td>\n",
       "      <td>None</td>\n",
       "    </tr>\n",
       "  </tbody>\n",
       "</table>\n",
       "<p>2 rows × 127 columns</p>\n",
       "</div>"
      ],
      "text/plain": [
       "   hide_score              domain author_flair_text  created_utc  solved_utc  \\\n",
       "0         NaN  self.tipofmytongue              None   1557725027  1557725407   \n",
       "1         0.0  self.tipofmytongue              None   1454487496               \n",
       "\n",
       "       subreddit media_embed secure_media_embed  \\\n",
       "0  tipofmytongue          {}                 {}   \n",
       "1  tipofmytongue          {}                 {}   \n",
       "\n",
       "                                       chosen_answer  \\\n",
       "0  bit of a long shot but  [Pocoyo](https://tvtro...   \n",
       "1                                                      \n",
       "\n",
       "                                links_on_answer_path  ... brand_safe mod_note  \\\n",
       "0  [https://tvtropes.org/pmwiki/pmwiki.php/Wester...  ...        NaN      NaN   \n",
       "1                                                 []  ...        NaN      NaN   \n",
       "\n",
       "   mod_reason_by  mod_reason_title approved_at_utc banned_at_utc  rte_mode  \\\n",
       "0            NaN               NaN             NaN           NaN      None   \n",
       "1            NaN               NaN             NaN           NaN      None   \n",
       "\n",
       "   post_categories visited previous_visits  \n",
       "0              NaN     NaN            None  \n",
       "1              NaN     NaN            None  \n",
       "\n",
       "[2 rows x 127 columns]"
      ]
     },
     "execution_count": 11,
     "metadata": {},
     "output_type": "execute_result"
    }
   ],
   "source": [
    "df.head(2)"
   ]
  },
  {
   "cell_type": "code",
   "execution_count": 12,
   "metadata": {},
   "outputs": [
    {
     "data": {
      "text/plain": [
       "{'all_awardings': [],\n",
       " 'allow_live_comments': nan,\n",
       " 'approved_at_utc': nan,\n",
       " 'approved_by': nan,\n",
       " 'archived': 0.0,\n",
       " 'author': 'PrezyDante',\n",
       " 'author_cakeday': nan,\n",
       " 'author_created_utc': 1501634594.0,\n",
       " 'author_flair_background_color': None,\n",
       " 'author_flair_css_class': None,\n",
       " 'author_flair_richtext': [],\n",
       " 'author_flair_template_id': nan,\n",
       " 'author_flair_text': None,\n",
       " 'author_flair_text_color': None,\n",
       " 'author_flair_type': 'text',\n",
       " 'author_fullname': 't2_93bvfuc',\n",
       " 'author_patreon_flair': 0.0,\n",
       " 'author_premium': nan,\n",
       " 'awarders': None,\n",
       " 'banned_at_utc': nan,\n",
       " 'banned_by': nan,\n",
       " 'brand_safe': nan,\n",
       " 'call_to_action': None,\n",
       " 'can_gild': 1.0,\n",
       " 'can_mod_post': 0.0,\n",
       " 'category': 'KID’S SHOW',\n",
       " 'chosen_answer': 'bit of a long shot but  [Pocoyo](https://tvtropes.org/pmwiki/pmwiki.php/WesternAnimation/Pocoyo)?',\n",
       " 'clicked': nan,\n",
       " 'comments': [{'all_awardings': [],\n",
       "   'author': 'ClairieO',\n",
       "   'author_created_utc': 1353317609,\n",
       "   'author_flair_background_color': '',\n",
       "   'author_flair_css_class': None,\n",
       "   'author_flair_richtext': [],\n",
       "   'author_flair_template_id': None,\n",
       "   'author_flair_text': '1536',\n",
       "   'author_flair_text_color': 'dark',\n",
       "   'author_flair_type': 'text',\n",
       "   'author_fullname': 't2_9nc8a',\n",
       "   'author_patreon_flair': False,\n",
       "   'body': 'bit of a long shot but  [Pocoyo](https://tvtropes.org/pmwiki/pmwiki.php/WesternAnimation/Pocoyo)?',\n",
       "   'can_gild': True,\n",
       "   'can_mod_post': False,\n",
       "   'collapsed': False,\n",
       "   'collapsed_reason': None,\n",
       "   'comments': [{'all_awardings': [],\n",
       "     'author': 'WhatIsThisBot',\n",
       "     'author_created_utc': 1358822784,\n",
       "     'author_flair_background_color': '',\n",
       "     'author_flair_css_class': None,\n",
       "     'author_flair_richtext': [],\n",
       "     'author_flair_template_id': None,\n",
       "     'author_flair_text': '2/∞',\n",
       "     'author_flair_text_color': 'dark',\n",
       "     'author_flair_type': 'text',\n",
       "     'author_fullname': 't2_abc8z',\n",
       "     'author_patreon_flair': False,\n",
       "     'body': 'You have been given one point for this answer.  \\n  Thanks for contributing!  \\n\\n  ^^^PrezyDante ^^^awarded ^^^to ^^^ClairieO ^^^\\\\(1261\\\\)',\n",
       "     'can_gild': True,\n",
       "     'can_mod_post': False,\n",
       "     'collapsed': False,\n",
       "     'collapsed_reason': None,\n",
       "     'comments': [],\n",
       "     'controversiality': 0,\n",
       "     'created_utc': 1557747542,\n",
       "     'distinguished': None,\n",
       "     'edited': False,\n",
       "     'gilded': 0,\n",
       "     'gildings': {},\n",
       "     'id': 'enbhhxg',\n",
       "     'is_submitter': False,\n",
       "     'link_id': 't3_bnzd3x',\n",
       "     'locked': False,\n",
       "     'no_follow': True,\n",
       "     'parent_id': 't1_enap6e2',\n",
       "     'permalink': '/r/tipofmytongue/comments/bnzd3x/tomtkids_show_nick_jr_claymation_show/enbhhxg/',\n",
       "     'quarantined': False,\n",
       "     'removal_reason': None,\n",
       "     'retrieved_on': 1562039069,\n",
       "     'score': 1,\n",
       "     'send_replies': True,\n",
       "     'stickied': False,\n",
       "     'subreddit': 'tipofmytongue',\n",
       "     'subreddit_id': 't5_2r4oc',\n",
       "     'subreddit_name_prefixed': 'r/tipofmytongue',\n",
       "     'subreddit_type': 'public',\n",
       "     'total_awards_received': 0},\n",
       "    {'all_awardings': [],\n",
       "     'author': 'PrezyDante',\n",
       "     'author_created_utc': 1501634594,\n",
       "     'author_flair_background_color': None,\n",
       "     'author_flair_css_class': None,\n",
       "     'author_flair_richtext': [],\n",
       "     'author_flair_template_id': None,\n",
       "     'author_flair_text': None,\n",
       "     'author_flair_text_color': None,\n",
       "     'author_flair_type': 'text',\n",
       "     'author_fullname': 't2_93bvfuc',\n",
       "     'author_patreon_flair': False,\n",
       "     'body': 'Solved! Holy shit, I thought I’d never find it. My memory of it has obviously altered over the years. Thanks!',\n",
       "     'can_gild': True,\n",
       "     'can_mod_post': False,\n",
       "     'collapsed': False,\n",
       "     'collapsed_reason': None,\n",
       "     'comments': [{'all_awardings': [],\n",
       "       'author': '[deleted]',\n",
       "       'author_created_utc': None,\n",
       "       'author_flair_background_color': '',\n",
       "       'author_flair_css_class': None,\n",
       "       'author_flair_template_id': None,\n",
       "       'author_flair_text': None,\n",
       "       'author_flair_text_color': 'dark',\n",
       "       'author_fullname': None,\n",
       "       'body': '[removed]',\n",
       "       'can_gild': True,\n",
       "       'can_mod_post': False,\n",
       "       'collapsed': False,\n",
       "       'collapsed_reason': None,\n",
       "       'comments': [],\n",
       "       'controversiality': 0,\n",
       "       'created_utc': 1557725530,\n",
       "       'distinguished': None,\n",
       "       'edited': False,\n",
       "       'gilded': 0,\n",
       "       'gildings': {},\n",
       "       'id': 'enapd3d',\n",
       "       'is_submitter': False,\n",
       "       'link_id': 't3_bnzd3x',\n",
       "       'locked': False,\n",
       "       'no_follow': True,\n",
       "       'parent_id': 't1_enapd1j',\n",
       "       'permalink': '/r/tipofmytongue/comments/bnzd3x/tomtkids_show_nick_jr_claymation_show/enapd3d/',\n",
       "       'quarantined': False,\n",
       "       'removal_reason': None,\n",
       "       'retrieved_on': 1562025766,\n",
       "       'score': 1,\n",
       "       'send_replies': False,\n",
       "       'stickied': False,\n",
       "       'subreddit': 'tipofmytongue',\n",
       "       'subreddit_id': 't5_2r4oc',\n",
       "       'subreddit_name_prefixed': 'r/tipofmytongue',\n",
       "       'subreddit_type': 'public',\n",
       "       'total_awards_received': 0}],\n",
       "     'controversiality': 0,\n",
       "     'created_utc': 1557725529,\n",
       "     'distinguished': None,\n",
       "     'edited': False,\n",
       "     'gilded': 0,\n",
       "     'gildings': {},\n",
       "     'id': 'enapd1j',\n",
       "     'is_submitter': True,\n",
       "     'link_id': 't3_bnzd3x',\n",
       "     'locked': False,\n",
       "     'no_follow': True,\n",
       "     'parent_id': 't1_enap6e2',\n",
       "     'permalink': '/r/tipofmytongue/comments/bnzd3x/tomtkids_show_nick_jr_claymation_show/enapd1j/',\n",
       "     'quarantined': False,\n",
       "     'removal_reason': None,\n",
       "     'retrieved_on': 1562025765,\n",
       "     'score': 3,\n",
       "     'send_replies': True,\n",
       "     'stickied': False,\n",
       "     'subreddit': 'tipofmytongue',\n",
       "     'subreddit_id': 't5_2r4oc',\n",
       "     'subreddit_name_prefixed': 'r/tipofmytongue',\n",
       "     'subreddit_type': 'public',\n",
       "     'total_awards_received': 0}],\n",
       "   'controversiality': 0,\n",
       "   'created_utc': 1557725407,\n",
       "   'distinguished': None,\n",
       "   'edited': False,\n",
       "   'gilded': 0,\n",
       "   'gildings': {},\n",
       "   'id': 'enap6e2',\n",
       "   'is_submitter': False,\n",
       "   'link_id': 't3_bnzd3x',\n",
       "   'locked': False,\n",
       "   'no_follow': True,\n",
       "   'parent_id': 't3_bnzd3x',\n",
       "   'permalink': '/r/tipofmytongue/comments/bnzd3x/tomtkids_show_nick_jr_claymation_show/enap6e2/',\n",
       "   'quarantined': False,\n",
       "   'removal_reason': None,\n",
       "   'retrieved_on': 1562025678,\n",
       "   'score': 3,\n",
       "   'send_replies': True,\n",
       "   'stickied': False,\n",
       "   'subreddit': 'tipofmytongue',\n",
       "   'subreddit_id': 't5_2r4oc',\n",
       "   'subreddit_name_prefixed': 'r/tipofmytongue',\n",
       "   'subreddit_type': 'public',\n",
       "   'total_awards_received': 0},\n",
       "  {'all_awardings': [],\n",
       "   'author': 'eka5245',\n",
       "   'author_created_utc': 1355636956,\n",
       "   'author_flair_background_color': '',\n",
       "   'author_flair_css_class': None,\n",
       "   'author_flair_richtext': [],\n",
       "   'author_flair_template_id': None,\n",
       "   'author_flair_text': '1',\n",
       "   'author_flair_text_color': 'dark',\n",
       "   'author_flair_type': 'text',\n",
       "   'author_fullname': 't2_9wns9',\n",
       "   'author_patreon_flair': False,\n",
       "   'body': 'Sounds almost like The Magic Roundabout, but I don’t remember a penguin and it was also aired on CN, not Nick. However, Nick had Pinwheel, which re-aired some stop motion shorts.',\n",
       "   'can_gild': True,\n",
       "   'can_mod_post': False,\n",
       "   'collapsed': False,\n",
       "   'collapsed_reason': None,\n",
       "   'comments': [],\n",
       "   'controversiality': 0,\n",
       "   'created_utc': 1557725604,\n",
       "   'distinguished': None,\n",
       "   'edited': False,\n",
       "   'gilded': 0,\n",
       "   'gildings': {},\n",
       "   'id': 'enapgzm',\n",
       "   'is_submitter': False,\n",
       "   'link_id': 't3_bnzd3x',\n",
       "   'locked': False,\n",
       "   'no_follow': True,\n",
       "   'parent_id': 't3_bnzd3x',\n",
       "   'permalink': '/r/tipofmytongue/comments/bnzd3x/tomtkids_show_nick_jr_claymation_show/enapgzm/',\n",
       "   'quarantined': False,\n",
       "   'removal_reason': None,\n",
       "   'retrieved_on': 1562025818,\n",
       "   'score': 2,\n",
       "   'send_replies': True,\n",
       "   'stickied': False,\n",
       "   'subreddit': 'tipofmytongue',\n",
       "   'subreddit_id': 't5_2r4oc',\n",
       "   'subreddit_name_prefixed': 'r/tipofmytongue',\n",
       "   'subreddit_type': 'public',\n",
       "   'total_awards_received': 0}],\n",
       " 'content': 'I have one vague memory of a claymation kid’s show. It had a dog character, possibly a kid character(unsure), and a British narrator. I think it also had a penguin character that had a hat that did some crazy things. Also I think the show always took place in a white void. Don’t get it twisted though, I’m not thinking of that claymation penguin “noot noot” show.',\n",
       " 'content_categories': nan,\n",
       " 'contest_mode': 0.0,\n",
       " 'created': nan,\n",
       " 'created_utc': 1557725027,\n",
       " 'crosspost_parent': None,\n",
       " 'crosspost_parent_list': None,\n",
       " 'discussion_type': nan,\n",
       " 'distinguished': nan,\n",
       " 'domain': 'self.tipofmytongue',\n",
       " 'downs': nan,\n",
       " 'edited': 0,\n",
       " 'from': nan,\n",
       " 'from_id': nan,\n",
       " 'from_kind': nan,\n",
       " 'gilded': 0.0,\n",
       " 'gildings': {},\n",
       " 'hidden': 0.0,\n",
       " 'hide_score': nan,\n",
       " 'id': 'bnzd3x',\n",
       " 'is_created_from_ads_ui': nan,\n",
       " 'is_crosspostable': 1.0,\n",
       " 'is_meta': 0.0,\n",
       " 'is_original_content': 0.0,\n",
       " 'is_reddit_media_domain': 0.0,\n",
       " 'is_robot_indexable': 1.0,\n",
       " 'is_self': True,\n",
       " 'is_video': 0.0,\n",
       " 'likes': nan,\n",
       " 'link_flair_background_color': '#90ee90',\n",
       " 'link_flair_css_class': 'solvedcase',\n",
       " 'link_flair_richtext': [],\n",
       " 'link_flair_template_id': 'c57687dc-bcba-11e1-9ec7-12313b0ce1e2',\n",
       " 'link_flair_text': 'Solved',\n",
       " 'link_flair_text_color': 'dark',\n",
       " 'link_flair_type': 'text',\n",
       " 'links_on_answer_path': ['https://tvtropes.org/pmwiki/pmwiki.php/WesternAnimation/Pocoyo)?'],\n",
       " 'locked': 0.0,\n",
       " 'media': None,\n",
       " 'media_embed': {},\n",
       " 'media_only': 0.0,\n",
       " 'mod_note': nan,\n",
       " 'mod_reason_by': nan,\n",
       " 'mod_reason_title': nan,\n",
       " 'mod_reports': None,\n",
       " 'name': None,\n",
       " 'no_follow': 1.0,\n",
       " 'num_comments': 5,\n",
       " 'num_crossposts': 0.0,\n",
       " 'num_reports': nan,\n",
       " 'over_18': False,\n",
       " 'parent_whitelist_status': 'all_ads',\n",
       " 'permalink': '/r/tipofmytongue/comments/bnzd3x/tomtkids_show_nick_jr_claymation_show/',\n",
       " 'pinned': 0.0,\n",
       " 'post_categories': nan,\n",
       " 'post_hint': None,\n",
       " 'preview': None,\n",
       " 'previous_visits': None,\n",
       " 'pwls': 6.0,\n",
       " 'quarantine': 0.0,\n",
       " 'removal_reason': nan,\n",
       " 'removed_by': nan,\n",
       " 'removed_by_category': None,\n",
       " 'report_reasons': nan,\n",
       " 'retrieved_on': 1560704934.0,\n",
       " 'retrieved_utc': nan,\n",
       " 'rte_mode': None,\n",
       " 'saved': nan,\n",
       " 'score': 3,\n",
       " 'secure_media': None,\n",
       " 'secure_media_embed': {},\n",
       " 'selftext_html': None,\n",
       " 'send_replies': 1.0,\n",
       " 'solved_utc': 1557725407,\n",
       " 'spoiler': 0.0,\n",
       " 'stickied': 0.0,\n",
       " 'subreddit': 'tipofmytongue',\n",
       " 'subreddit_id': 't5_2r4oc',\n",
       " 'subreddit_name_prefixed': 'r/tipofmytongue',\n",
       " 'subreddit_subscribers': 771240.0,\n",
       " 'subreddit_type': 'public',\n",
       " 'suggested_sort': None,\n",
       " 'thumbnail': 'self',\n",
       " 'thumbnail_height': nan,\n",
       " 'thumbnail_width': nan,\n",
       " 'title': '[TOMT][KID’S SHOW] Nick Jr. claymation show?',\n",
       " 'top_awarded_type': nan,\n",
       " 'total_awards_received': 0.0,\n",
       " 'treatment_tags': None,\n",
       " 'ups': nan,\n",
       " 'upvote_ratio': nan,\n",
       " 'url': 'https://www.reddit.com/r/tipofmytongue/comments/bnzd3x/tomtkids_show_nick_jr_claymation_show/',\n",
       " 'url_overridden_by_dest': None,\n",
       " 'user_reports': None,\n",
       " 'view_count': nan,\n",
       " 'visited': nan,\n",
       " 'whitelist_status': 'all_ads',\n",
       " 'wls': 6.0}"
      ]
     },
     "execution_count": 12,
     "metadata": {},
     "output_type": "execute_result"
    }
   ],
   "source": [
    "df.iloc[0].to_dict()"
   ]
  },
  {
   "cell_type": "code",
   "execution_count": 9,
   "metadata": {},
   "outputs": [],
   "source": [
    "def extract_category(tomt):\n",
    "    \n",
    "    return tomt.to_dict()['title'].split('[')[-1].split(']')[0]"
   ]
  },
  {
   "cell_type": "code",
   "execution_count": 13,
   "metadata": {},
   "outputs": [
    {
     "data": {
      "text/plain": [
       "TOMT     25066\n",
       "SONG      4770\n",
       "MOVIE     4303\n",
       "Song      3590\n",
       "Movie     2865\n",
       "2000s     2665\n",
       "song      1749\n",
       "2010s     1693\n",
       "Video     1619\n",
       "video     1422\n",
       "VIDEO     1373\n",
       "BOOK      1246\n",
       "MUSIC     1243\n",
       "Music     1145\n",
       "Book      1086\n",
       "movie     1077\n",
       "GAME       897\n",
       "tomt       714\n",
       "Game       662\n",
       "1990s      515\n",
       "Name: category, dtype: int64"
      ]
     },
     "execution_count": 13,
     "metadata": {},
     "output_type": "execute_result"
    }
   ],
   "source": [
    "df['category'].value_counts().head(20)"
   ]
  },
  {
   "cell_type": "code",
   "execution_count": 14,
   "metadata": {},
   "outputs": [
    {
     "data": {
      "text/plain": [
       "Website                 402\n",
       "website                 371\n",
       "website/game              2\n",
       "website/article           2\n",
       "Website?                  2\n",
       "                       ... \n",
       "Old websites              1\n",
       "Picture/Website           1\n",
       "subbreddits/websites      1\n",
       "TOMT - website            1\n",
       "Web site                  1\n",
       "Name: category, Length: 128, dtype: int64"
      ]
     },
     "execution_count": 14,
     "metadata": {},
     "output_type": "execute_result"
    }
   ],
   "source": [
    "df[df['category'].str.contains('site')].category.value_counts()"
   ]
  },
  {
   "cell_type": "code",
   "execution_count": 15,
   "metadata": {},
   "outputs": [
    {
     "data": {
      "text/plain": [
       "Webpage                                                                                                                                                                            3\n",
       "web page                                                                                                                                                                           2\n",
       "webpage                                                                                                                                                                            2\n",
       "Recently on the frontpage                                                                                                                                                          1\n",
       "Children's book that was recently on the front page                                                                                                                                1\n",
       "Reddit page                                                                                                                                                                        1\n",
       "Front page comic submission of two friends reminiscing, having a good time, and it cuts back to the friend and he's not there and the last frame is at the grave of his friend.    1\n",
       "Video on the front page a few months ago                                                                                                                                           1\n",
       "Instagram page                                                                                                                                                                     1\n",
       "Horror story/webpage                                                                                                                                                               1\n",
       "Reddit front-page post                                                                                                                                                             1\n",
       "~2 pages                                                                                                                                                                           1\n",
       "Reddit comment comic; a 3 page comic with an annoying guy. His friends leave him, calls him an ashole, and then he say's ~'haha, owned you guys'                                   1\n",
       "Reddit Frontpage Post                                                                                                                                                              1\n",
       "story/webpage                                                                                                                                                                      1\n",
       "Search for an extremely detailed tattoo that made the front page recently                                                                                                          1\n",
       "wiki page                                                                                                                                                                          1\n",
       "http://www.youtube.com/watch?feature=player_detailpage&amp;v=90Omh7_I8vI#t=0s                                                                                                      1\n",
       "TOMT: Picture that was on the Reddit Front page  involves Rollercoaster tycoon                                                                                                     1\n",
       "2000 era website that paid users for page views?                                                                                                                                   1\n",
       "Homepage/animation                                                                                                                                                                 1\n",
       "That app on chrome that lets you manage clickbait to one page                                                                                                                      1\n",
       "What's that web page that turns URL's in to pictures?                                                                                                                              1\n",
       "TOMT Was on the front page yesterday, couples advice not attacking character?                                                                                                      1\n",
       "Webpage/App                                                                                                                                                                        1\n",
       "Name: category, dtype: int64"
      ]
     },
     "execution_count": 15,
     "metadata": {},
     "output_type": "execute_result"
    }
   ],
   "source": [
    "df[df['category'].str.contains('page')].category.value_counts()"
   ]
  },
  {
   "cell_type": "code",
   "execution_count": 16,
   "metadata": {},
   "outputs": [
    {
     "name": "stderr",
     "output_type": "stream",
     "text": [
      "/home/christine/.local/lib/python3.6/site-packages/seaborn/_decorators.py:43: FutureWarning: Pass the following variable as a keyword arg: x. From version 0.12, the only valid positional argument will be `data`, and passing other arguments without an explicit keyword will result in an error or misinterpretation.\n",
      "  FutureWarning\n",
      "/home/christine/.local/lib/python3.6/site-packages/seaborn/categorical.py:376: UserWarning: Attempted to set non-positive bottom ylim on a log-scaled axis.\n",
      "Invalid limit will be ignored.\n",
      "  ax.set_ylim(-.5, len(self.plot_data) - .5, auto=None)\n"
     ]
    },
    {
     "data": {
      "text/plain": [
       "<AxesSubplot:xlabel='ups'>"
      ]
     },
     "execution_count": 16,
     "metadata": {},
     "output_type": "execute_result"
    },
    {
     "data": {
      "image/png": "[encoded data removed]",
      "text/plain": [
       "<Figure size 504x432 with 1 Axes>"
      ]
     },
     "metadata": {},
     "output_type": "display_data"
    }
   ],
   "source": [
    "sns.set_theme(style=\"ticks\")\n",
    "\n",
    "# Initialize the figure with a logarithmic x axis\n",
    "f, ax = plt.subplots(figsize=(7, 6))\n",
    "ax.set_yscale(\"log\")\n",
    "sns.boxplot(df.ups)\n",
    "# observation: zero or ten or more upvotes are outlayers, hence we take questions with 1-9 upvotes"
   ]
  },
  {
   "cell_type": "code",
   "execution_count": 41,
   "metadata": {},
   "outputs": [
    {
     "data": {
      "text/plain": [
       "<AxesSubplot:>"
      ]
     },
     "execution_count": 41,
     "metadata": {},
     "output_type": "execute_result"
    },
    {
     "data": {
      "image/png": "[encoded data removed]",
      "text/plain": [
       "<Figure size 504x432 with 1 Axes>"
      ]
     },
     "metadata": {},
     "output_type": "display_data"
    }
   ],
   "source": [
    "# Initialize the figure with a logarithmic x axis\n",
    "f, ax = plt.subplots(figsize=(7, 6))\n",
    "ax.set_yscale(\"log\")\n",
    "sns.boxplot(df.downs)\n",
    "# observation:questions with one downvote are already outlayers, hence we only take questions with zero downvotes"
   ]
  },
  {
   "cell_type": "code",
   "execution_count": 42,
   "metadata": {},
   "outputs": [
    {
     "data": {
      "text/plain": [
       "<AxesSubplot:>"
      ]
     },
     "execution_count": 42,
     "metadata": {},
     "output_type": "execute_result"
    },
    {
     "data": {
      "image/png": "[encoded data removed]",
      "text/plain": [
       "<Figure size 504x432 with 1 Axes>"
      ]
     },
     "metadata": {},
     "output_type": "display_data"
    }
   ],
   "source": [
    "# Initialize the figure with a logarithmic x axis\n",
    "f, ax = plt.subplots(figsize=(7, 6))\n",
    "ax.set_yscale(\"log\")\n",
    "sns.boxplot(df.num_comments)\n",
    "# observation:questions with zero or 13 comments are already outlayers, hence we only take questions with zero downvotes"
   ]
  },
  {
   "cell_type": "code",
   "execution_count": 43,
   "metadata": {},
   "outputs": [
    {
     "data": {
      "text/plain": [
       "count    100000.000000\n",
       "mean          5.338720\n",
       "std           8.477454\n",
       "min          -1.000000\n",
       "25%           2.000000\n",
       "50%           4.000000\n",
       "75%           7.000000\n",
       "max        1170.000000\n",
       "Name: num_comments, dtype: float64"
      ]
     },
     "execution_count": 43,
     "metadata": {},
     "output_type": "execute_result"
    }
   ],
   "source": [
    "df.num_comments.describe()"
   ]
  },
  {
   "cell_type": "code",
   "execution_count": 44,
   "metadata": {},
   "outputs": [
    {
     "data": {
      "text/plain": [
       "13.0"
      ]
     },
     "execution_count": 44,
     "metadata": {},
     "output_type": "execute_result"
    }
   ],
   "source": [
    "df.num_comments.quantile(q=0.95)"
   ]
  },
  {
   "cell_type": "code",
   "execution_count": 58,
   "metadata": {},
   "outputs": [],
   "source": [
    "#select topics\n",
    "\n",
    "#define conditions\n",
    "c1 = df[\"solved_utc\"] != \"\"\n",
    "c2 = (df[\"ups\"]>0) & (df[\"ups\"]<10)\n",
    "c3 = df[\"downs\"]==0\n",
    "c4 = (df[\"num_comments\"] > 0) & (df[\"num_comments\"]<13)\n",
    "\n",
    "#apply conditions to dataframe\n",
    "topics = df[c1 & c2 & c3 & c4]\n",
    "\n",
    "#select samples by category\n",
    "books = topics[topics[\"category\"].isin([\"BOOK\", \"Book\"])].sample(250)\n",
    "movies = topics[topics[\"category\"].isin([\"MOVIE\", \"Movie\", \"movie\"])].sample(250)\n",
    "websites = topics[topics[\"category\"].isin([\"Website\", \"website\"])] #less then 250 elements, so all are taken\n",
    "songs = topics[topics[\"category\"].isin([\"SONG\", \"Song\", \"song\", \"MUSIC\", \"Music\"])].sample(250)"
   ]
  },
  {
   "cell_type": "code",
   "execution_count": 74,
   "metadata": {},
   "outputs": [],
   "source": [
    "books.to_json(\"./books.json\", orient = \"records\", lines = True)\n",
    "movies.to_json(\"./movies.json\", orient = \"records\", lines = True)\n",
    "websites.to_json(\"./websites.json\", orient = \"records\", lines = True)\n",
    "songs.to_json(\"./songs.json\", orient = \"records\", lines = True)"
   ]
  },
  {
   "cell_type": "code",
   "execution_count": 59,
   "metadata": {},
   "outputs": [
    {
     "name": "stdout",
     "output_type": "stream",
     "text": [
      "(250, 127)\n",
      "(250, 127)\n",
      "(110, 127)\n",
      "(250, 127)\n"
     ]
    }
   ],
   "source": [
    "print(books.shape) #(272, 127)\n",
    "print(movies.shape) #(1029, 127)\n",
    "print(websites.shape) #(110, 127)\n",
    "print(songs.shape) #(1385, 127)"
   ]
  }
 ],
 "metadata": {
  "kernelspec": {
   "display_name": "Python 3 (ipykernel)",
   "language": "python",
   "name": "python3"
  },
  "language_info": {
   "codemirror_mode": {
    "name": "ipython",
    "version": 3
   },
   "file_extension": ".py",
   "mimetype": "text/x-python",
   "name": "python",
   "nbconvert_exporter": "python",
   "pygments_lexer": "ipython3",
   "version": "3.7.13"
  }
 },
 "nbformat": 4,
 "nbformat_minor": 4
}
